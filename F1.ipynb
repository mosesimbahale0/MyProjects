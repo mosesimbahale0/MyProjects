{
  "nbformat": 4,
  "nbformat_minor": 0,
  "metadata": {
    "colab": {
      "provenance": [],
      "collapsed_sections": [
        "lTD2EGg3rDSZ",
        "zOGPM62Jxm1B",
        "tglvjoH3KX9j",
        "fZMYm3d2mk0k",
        "xkq8sxkQpUiQ",
        "cS1_rxQwqP-7"
      ],
      "authorship_tag": "ABX9TyO5qfjJD6o9I+Y76SWW4By7",
      "include_colab_link": true
    },
    "kernelspec": {
      "name": "python3",
      "display_name": "Python 3"
    },
    "language_info": {
      "name": "python"
    }
  },
  "cells": [
    {
      "cell_type": "markdown",
      "metadata": {
        "id": "view-in-github",
        "colab_type": "text"
      },
      "source": [
        "<a href=\"https://colab.research.google.com/github/mosesimbahale0/MyProjects/blob/main/F1.ipynb\" target=\"_parent\"><img src=\"https://colab.research.google.com/assets/colab-badge.svg\" alt=\"Open In Colab\"/></a>"
      ]
    },
    {
      "cell_type": "markdown",
      "source": [
        "\n",
        "\n",
        "\n",
        "\n",
        "\n",
        "\n",
        "\n",
        "\n",
        "\n",
        "\n",
        "\n",
        "\n",
        "# The big picture"
      ],
      "metadata": {
        "id": "lTD2EGg3rDSZ"
      }
    },
    {
      "cell_type": "markdown",
      "source": [
        "Objectives\n",
        "\n",
        "\n",
        "1.   To find the correlation between marks scored in KCPE and Mid Term Total marks\n",
        "2. To Find the most improved and most dropped students relative to the expectation\n",
        "3.   To craft a model that can predict the midterm Total marks given the KCPE marks and other categorical data.\n",
        "\n",
        "\n",
        "\n",
        "\n"
      ],
      "metadata": {
        "id": "EaKMhV2rrGID"
      }
    },
    {
      "cell_type": "markdown",
      "source": [
        "# Data Acquisition & Loading"
      ],
      "metadata": {
        "id": "zOGPM62Jxm1B"
      }
    },
    {
      "cell_type": "code",
      "source": [
        "# Mount google drive in colab\n",
        "# Follow the on-screen instructions to grant Colab access to your Drive.\n",
        "# NOTE: This step only needs to be done once per session.\n",
        "from google.colab import drive\n",
        "drive.mount('/content/drive')"
      ],
      "metadata": {
        "colab": {
          "base_uri": "https://localhost:8080/"
        },
        "id": "p4kXBJJgRap4",
        "outputId": "6cd52018-73c4-45f5-f56c-936fd2b675af"
      },
      "execution_count": 42,
      "outputs": [
        {
          "output_type": "stream",
          "name": "stdout",
          "text": [
            "Drive already mounted at /content/drive; to attempt to forcibly remount, call drive.mount(\"/content/drive\", force_remount=True).\n"
          ]
        }
      ]
    },
    {
      "cell_type": "code",
      "source": [
        "# Load data to Pandas DataFrame\n",
        "import pandas as pd\n",
        "\n",
        "data = pd.read_csv('/content/drive/MyDrive/dataset/F1DATA.csv')\n",
        "\n",
        "print(data.head(2))"
      ],
      "metadata": {
        "colab": {
          "base_uri": "https://localhost:8080/"
        },
        "id": "hqC2kc6_QoAS",
        "outputId": "fb214586-ca52-4798-b8e3-ba61122b79d0"
      },
      "execution_count": 43,
      "outputs": [
        {
          "output_type": "stream",
          "name": "stdout",
          "text": [
            "   CP  OP    ADM           NAME  Stream   KCPE   ENG  KISW   MAT   BIO  ...  \\\n",
            "0   1   1  14940  NEWTON ONGADI   WHITE   371B  75B+  82A-  76A-   81A  ...   \n",
            "1   1   2  15059    BOAZ MUTOKA  PURPLE  331B-  78B+   90A  64B-  77A-  ...   \n",
            "\n",
            "   AGRI COMP  FRE  MUS  BST  SE T mks MMearakn. GR. VAP  \n",
            "0  84A-  NaN  NaN  NaN  98A  11   918   83.4545   A   3  \n",
            "1  82A-  NaN  NaN  NaN  96A  11   908   82.5455   A   4  \n",
            "\n",
            "[2 rows x 26 columns]\n"
          ]
        }
      ]
    },
    {
      "cell_type": "markdown",
      "source": [
        "\n",
        "\n",
        "# Exploratory Data Analysis"
      ],
      "metadata": {
        "id": "tglvjoH3KX9j"
      }
    },
    {
      "cell_type": "markdown",
      "source": [
        "\n",
        "\n",
        "* **Get familiar with the data:** Examine the data structure, data types (numerical, categorical, text), and identify basic summary statistics.\n",
        "* **Visualize the data:** Create visualizations (histograms, scatter plots, box plots) to understand data distributions, identify patterns, and uncover potential relationships between variables.\n",
        "* **Check for missing values:** Analyze the presence of missing data and decide on appropriate handling strategies (e.g., removal, imputation techniques).\n",
        "* **Identify outliers:** Explore potential outliers and determine if they require specific treatment (e.g., removal, investigation).\n"
      ],
      "metadata": {
        "id": "NaAj1OjgKmm8"
      }
    },
    {
      "cell_type": "code",
      "source": [
        "# Check the DataFrame's head\n",
        "df= pd.DataFrame(data)\n",
        "\n",
        "df.head(2)"
      ],
      "metadata": {
        "colab": {
          "base_uri": "https://localhost:8080/",
          "height": 0
        },
        "id": "3U9dzJs0R80Q",
        "outputId": "934129a3-3331-4bc2-afdf-59e77e37237e"
      },
      "execution_count": 44,
      "outputs": [
        {
          "output_type": "execute_result",
          "data": {
            "text/plain": [
              "   CP  OP    ADM           NAME  Stream   KCPE   ENG  KISW   MAT   BIO  ...  \\\n",
              "0   1   1  14940  NEWTON ONGADI   WHITE   371B  75B+  82A-  76A-   81A  ...   \n",
              "1   1   2  15059    BOAZ MUTOKA  PURPLE  331B-  78B+   90A  64B-  77A-  ...   \n",
              "\n",
              "   AGRI COMP  FRE  MUS  BST  SE T mks MMearakn. GR. VAP  \n",
              "0  84A-  NaN  NaN  NaN  98A  11   918   83.4545   A   3  \n",
              "1  82A-  NaN  NaN  NaN  96A  11   908   82.5455   A   4  \n",
              "\n",
              "[2 rows x 26 columns]"
            ],
            "text/html": [
              "\n",
              "  <div id=\"df-c7af9bd0-091b-4e82-89aa-7c1373c09077\" class=\"colab-df-container\">\n",
              "    <div>\n",
              "<style scoped>\n",
              "    .dataframe tbody tr th:only-of-type {\n",
              "        vertical-align: middle;\n",
              "    }\n",
              "\n",
              "    .dataframe tbody tr th {\n",
              "        vertical-align: top;\n",
              "    }\n",
              "\n",
              "    .dataframe thead th {\n",
              "        text-align: right;\n",
              "    }\n",
              "</style>\n",
              "<table border=\"1\" class=\"dataframe\">\n",
              "  <thead>\n",
              "    <tr style=\"text-align: right;\">\n",
              "      <th></th>\n",
              "      <th>CP</th>\n",
              "      <th>OP</th>\n",
              "      <th>ADM</th>\n",
              "      <th>NAME</th>\n",
              "      <th>Stream</th>\n",
              "      <th>KCPE</th>\n",
              "      <th>ENG</th>\n",
              "      <th>KISW</th>\n",
              "      <th>MAT</th>\n",
              "      <th>BIO</th>\n",
              "      <th>...</th>\n",
              "      <th>AGRI</th>\n",
              "      <th>COMP</th>\n",
              "      <th>FRE</th>\n",
              "      <th>MUS</th>\n",
              "      <th>BST</th>\n",
              "      <th>SE</th>\n",
              "      <th>T mks</th>\n",
              "      <th>MMearakn.</th>\n",
              "      <th>GR.</th>\n",
              "      <th>VAP</th>\n",
              "    </tr>\n",
              "  </thead>\n",
              "  <tbody>\n",
              "    <tr>\n",
              "      <th>0</th>\n",
              "      <td>1</td>\n",
              "      <td>1</td>\n",
              "      <td>14940</td>\n",
              "      <td>NEWTON ONGADI</td>\n",
              "      <td>WHITE</td>\n",
              "      <td>371B</td>\n",
              "      <td>75B+</td>\n",
              "      <td>82A-</td>\n",
              "      <td>76A-</td>\n",
              "      <td>81A</td>\n",
              "      <td>...</td>\n",
              "      <td>84A-</td>\n",
              "      <td>NaN</td>\n",
              "      <td>NaN</td>\n",
              "      <td>NaN</td>\n",
              "      <td>98A</td>\n",
              "      <td>11</td>\n",
              "      <td>918</td>\n",
              "      <td>83.4545</td>\n",
              "      <td>A</td>\n",
              "      <td>3</td>\n",
              "    </tr>\n",
              "    <tr>\n",
              "      <th>1</th>\n",
              "      <td>1</td>\n",
              "      <td>2</td>\n",
              "      <td>15059</td>\n",
              "      <td>BOAZ MUTOKA</td>\n",
              "      <td>PURPLE</td>\n",
              "      <td>331B-</td>\n",
              "      <td>78B+</td>\n",
              "      <td>90A</td>\n",
              "      <td>64B-</td>\n",
              "      <td>77A-</td>\n",
              "      <td>...</td>\n",
              "      <td>82A-</td>\n",
              "      <td>NaN</td>\n",
              "      <td>NaN</td>\n",
              "      <td>NaN</td>\n",
              "      <td>96A</td>\n",
              "      <td>11</td>\n",
              "      <td>908</td>\n",
              "      <td>82.5455</td>\n",
              "      <td>A</td>\n",
              "      <td>4</td>\n",
              "    </tr>\n",
              "  </tbody>\n",
              "</table>\n",
              "<p>2 rows × 26 columns</p>\n",
              "</div>\n",
              "    <div class=\"colab-df-buttons\">\n",
              "\n",
              "  <div class=\"colab-df-container\">\n",
              "    <button class=\"colab-df-convert\" onclick=\"convertToInteractive('df-c7af9bd0-091b-4e82-89aa-7c1373c09077')\"\n",
              "            title=\"Convert this dataframe to an interactive table.\"\n",
              "            style=\"display:none;\">\n",
              "\n",
              "  <svg xmlns=\"http://www.w3.org/2000/svg\" height=\"24px\" viewBox=\"0 -960 960 960\">\n",
              "    <path d=\"M120-120v-720h720v720H120Zm60-500h600v-160H180v160Zm220 220h160v-160H400v160Zm0 220h160v-160H400v160ZM180-400h160v-160H180v160Zm440 0h160v-160H620v160ZM180-180h160v-160H180v160Zm440 0h160v-160H620v160Z\"/>\n",
              "  </svg>\n",
              "    </button>\n",
              "\n",
              "  <style>\n",
              "    .colab-df-container {\n",
              "      display:flex;\n",
              "      gap: 12px;\n",
              "    }\n",
              "\n",
              "    .colab-df-convert {\n",
              "      background-color: #E8F0FE;\n",
              "      border: none;\n",
              "      border-radius: 50%;\n",
              "      cursor: pointer;\n",
              "      display: none;\n",
              "      fill: #1967D2;\n",
              "      height: 32px;\n",
              "      padding: 0 0 0 0;\n",
              "      width: 32px;\n",
              "    }\n",
              "\n",
              "    .colab-df-convert:hover {\n",
              "      background-color: #E2EBFA;\n",
              "      box-shadow: 0px 1px 2px rgba(60, 64, 67, 0.3), 0px 1px 3px 1px rgba(60, 64, 67, 0.15);\n",
              "      fill: #174EA6;\n",
              "    }\n",
              "\n",
              "    .colab-df-buttons div {\n",
              "      margin-bottom: 4px;\n",
              "    }\n",
              "\n",
              "    [theme=dark] .colab-df-convert {\n",
              "      background-color: #3B4455;\n",
              "      fill: #D2E3FC;\n",
              "    }\n",
              "\n",
              "    [theme=dark] .colab-df-convert:hover {\n",
              "      background-color: #434B5C;\n",
              "      box-shadow: 0px 1px 3px 1px rgba(0, 0, 0, 0.15);\n",
              "      filter: drop-shadow(0px 1px 2px rgba(0, 0, 0, 0.3));\n",
              "      fill: #FFFFFF;\n",
              "    }\n",
              "  </style>\n",
              "\n",
              "    <script>\n",
              "      const buttonEl =\n",
              "        document.querySelector('#df-c7af9bd0-091b-4e82-89aa-7c1373c09077 button.colab-df-convert');\n",
              "      buttonEl.style.display =\n",
              "        google.colab.kernel.accessAllowed ? 'block' : 'none';\n",
              "\n",
              "      async function convertToInteractive(key) {\n",
              "        const element = document.querySelector('#df-c7af9bd0-091b-4e82-89aa-7c1373c09077');\n",
              "        const dataTable =\n",
              "          await google.colab.kernel.invokeFunction('convertToInteractive',\n",
              "                                                    [key], {});\n",
              "        if (!dataTable) return;\n",
              "\n",
              "        const docLinkHtml = 'Like what you see? Visit the ' +\n",
              "          '<a target=\"_blank\" href=https://colab.research.google.com/notebooks/data_table.ipynb>data table notebook</a>'\n",
              "          + ' to learn more about interactive tables.';\n",
              "        element.innerHTML = '';\n",
              "        dataTable['output_type'] = 'display_data';\n",
              "        await google.colab.output.renderOutput(dataTable, element);\n",
              "        const docLink = document.createElement('div');\n",
              "        docLink.innerHTML = docLinkHtml;\n",
              "        element.appendChild(docLink);\n",
              "      }\n",
              "    </script>\n",
              "  </div>\n",
              "\n",
              "\n",
              "<div id=\"df-6c5c0a5f-e947-41a7-8753-a53b89877c9c\">\n",
              "  <button class=\"colab-df-quickchart\" onclick=\"quickchart('df-6c5c0a5f-e947-41a7-8753-a53b89877c9c')\"\n",
              "            title=\"Suggest charts\"\n",
              "            style=\"display:none;\">\n",
              "\n",
              "<svg xmlns=\"http://www.w3.org/2000/svg\" height=\"24px\"viewBox=\"0 0 24 24\"\n",
              "     width=\"24px\">\n",
              "    <g>\n",
              "        <path d=\"M19 3H5c-1.1 0-2 .9-2 2v14c0 1.1.9 2 2 2h14c1.1 0 2-.9 2-2V5c0-1.1-.9-2-2-2zM9 17H7v-7h2v7zm4 0h-2V7h2v10zm4 0h-2v-4h2v4z\"/>\n",
              "    </g>\n",
              "</svg>\n",
              "  </button>\n",
              "\n",
              "<style>\n",
              "  .colab-df-quickchart {\n",
              "      --bg-color: #E8F0FE;\n",
              "      --fill-color: #1967D2;\n",
              "      --hover-bg-color: #E2EBFA;\n",
              "      --hover-fill-color: #174EA6;\n",
              "      --disabled-fill-color: #AAA;\n",
              "      --disabled-bg-color: #DDD;\n",
              "  }\n",
              "\n",
              "  [theme=dark] .colab-df-quickchart {\n",
              "      --bg-color: #3B4455;\n",
              "      --fill-color: #D2E3FC;\n",
              "      --hover-bg-color: #434B5C;\n",
              "      --hover-fill-color: #FFFFFF;\n",
              "      --disabled-bg-color: #3B4455;\n",
              "      --disabled-fill-color: #666;\n",
              "  }\n",
              "\n",
              "  .colab-df-quickchart {\n",
              "    background-color: var(--bg-color);\n",
              "    border: none;\n",
              "    border-radius: 50%;\n",
              "    cursor: pointer;\n",
              "    display: none;\n",
              "    fill: var(--fill-color);\n",
              "    height: 32px;\n",
              "    padding: 0;\n",
              "    width: 32px;\n",
              "  }\n",
              "\n",
              "  .colab-df-quickchart:hover {\n",
              "    background-color: var(--hover-bg-color);\n",
              "    box-shadow: 0 1px 2px rgba(60, 64, 67, 0.3), 0 1px 3px 1px rgba(60, 64, 67, 0.15);\n",
              "    fill: var(--button-hover-fill-color);\n",
              "  }\n",
              "\n",
              "  .colab-df-quickchart-complete:disabled,\n",
              "  .colab-df-quickchart-complete:disabled:hover {\n",
              "    background-color: var(--disabled-bg-color);\n",
              "    fill: var(--disabled-fill-color);\n",
              "    box-shadow: none;\n",
              "  }\n",
              "\n",
              "  .colab-df-spinner {\n",
              "    border: 2px solid var(--fill-color);\n",
              "    border-color: transparent;\n",
              "    border-bottom-color: var(--fill-color);\n",
              "    animation:\n",
              "      spin 1s steps(1) infinite;\n",
              "  }\n",
              "\n",
              "  @keyframes spin {\n",
              "    0% {\n",
              "      border-color: transparent;\n",
              "      border-bottom-color: var(--fill-color);\n",
              "      border-left-color: var(--fill-color);\n",
              "    }\n",
              "    20% {\n",
              "      border-color: transparent;\n",
              "      border-left-color: var(--fill-color);\n",
              "      border-top-color: var(--fill-color);\n",
              "    }\n",
              "    30% {\n",
              "      border-color: transparent;\n",
              "      border-left-color: var(--fill-color);\n",
              "      border-top-color: var(--fill-color);\n",
              "      border-right-color: var(--fill-color);\n",
              "    }\n",
              "    40% {\n",
              "      border-color: transparent;\n",
              "      border-right-color: var(--fill-color);\n",
              "      border-top-color: var(--fill-color);\n",
              "    }\n",
              "    60% {\n",
              "      border-color: transparent;\n",
              "      border-right-color: var(--fill-color);\n",
              "    }\n",
              "    80% {\n",
              "      border-color: transparent;\n",
              "      border-right-color: var(--fill-color);\n",
              "      border-bottom-color: var(--fill-color);\n",
              "    }\n",
              "    90% {\n",
              "      border-color: transparent;\n",
              "      border-bottom-color: var(--fill-color);\n",
              "    }\n",
              "  }\n",
              "</style>\n",
              "\n",
              "  <script>\n",
              "    async function quickchart(key) {\n",
              "      const quickchartButtonEl =\n",
              "        document.querySelector('#' + key + ' button');\n",
              "      quickchartButtonEl.disabled = true;  // To prevent multiple clicks.\n",
              "      quickchartButtonEl.classList.add('colab-df-spinner');\n",
              "      try {\n",
              "        const charts = await google.colab.kernel.invokeFunction(\n",
              "            'suggestCharts', [key], {});\n",
              "      } catch (error) {\n",
              "        console.error('Error during call to suggestCharts:', error);\n",
              "      }\n",
              "      quickchartButtonEl.classList.remove('colab-df-spinner');\n",
              "      quickchartButtonEl.classList.add('colab-df-quickchart-complete');\n",
              "    }\n",
              "    (() => {\n",
              "      let quickchartButtonEl =\n",
              "        document.querySelector('#df-6c5c0a5f-e947-41a7-8753-a53b89877c9c button');\n",
              "      quickchartButtonEl.style.display =\n",
              "        google.colab.kernel.accessAllowed ? 'block' : 'none';\n",
              "    })();\n",
              "  </script>\n",
              "</div>\n",
              "\n",
              "    </div>\n",
              "  </div>\n"
            ],
            "application/vnd.google.colaboratory.intrinsic+json": {
              "type": "dataframe",
              "variable_name": "df"
            }
          },
          "metadata": {},
          "execution_count": 44
        }
      ]
    },
    {
      "cell_type": "code",
      "source": [
        "# Check the DataFrame's tail\n",
        "df.tail(2)"
      ],
      "metadata": {
        "colab": {
          "base_uri": "https://localhost:8080/",
          "height": 0
        },
        "id": "5HKm7TiyTHVI",
        "outputId": "147a0f84-9e01-4ff6-a683-5f0f1127a783"
      },
      "execution_count": 45,
      "outputs": [
        {
          "output_type": "execute_result",
          "data": {
            "text/plain": [
              "     CP   OP    ADM                    NAME  Stream   KCPE   ENG KISW   MAT  \\\n",
              "605  66  605  14865  KISANYA VICTOR INDIAZI  MAROON  278C+  45C-  74B  43C-   \n",
              "606  68  605  15285  ANTONY LIANZIKA MIDEGA  SILVER   255C  32D-  52C   45C   \n",
              "\n",
              "     BIO  ... AGRI COMP  FRE  MUS  BST  SE T mks MMearakn. GR. VAP  \n",
              "605  10E  ...  NaN  NaN  NaN  NaN  52C  10   460       0.0   Z  -7  \n",
              "606  17E  ...  22E  NaN  NaN  NaN  36D  10   391       0.0   Z  -6  \n",
              "\n",
              "[2 rows x 26 columns]"
            ],
            "text/html": [
              "\n",
              "  <div id=\"df-12657781-037e-4bd6-b9b6-752455ac3c56\" class=\"colab-df-container\">\n",
              "    <div>\n",
              "<style scoped>\n",
              "    .dataframe tbody tr th:only-of-type {\n",
              "        vertical-align: middle;\n",
              "    }\n",
              "\n",
              "    .dataframe tbody tr th {\n",
              "        vertical-align: top;\n",
              "    }\n",
              "\n",
              "    .dataframe thead th {\n",
              "        text-align: right;\n",
              "    }\n",
              "</style>\n",
              "<table border=\"1\" class=\"dataframe\">\n",
              "  <thead>\n",
              "    <tr style=\"text-align: right;\">\n",
              "      <th></th>\n",
              "      <th>CP</th>\n",
              "      <th>OP</th>\n",
              "      <th>ADM</th>\n",
              "      <th>NAME</th>\n",
              "      <th>Stream</th>\n",
              "      <th>KCPE</th>\n",
              "      <th>ENG</th>\n",
              "      <th>KISW</th>\n",
              "      <th>MAT</th>\n",
              "      <th>BIO</th>\n",
              "      <th>...</th>\n",
              "      <th>AGRI</th>\n",
              "      <th>COMP</th>\n",
              "      <th>FRE</th>\n",
              "      <th>MUS</th>\n",
              "      <th>BST</th>\n",
              "      <th>SE</th>\n",
              "      <th>T mks</th>\n",
              "      <th>MMearakn.</th>\n",
              "      <th>GR.</th>\n",
              "      <th>VAP</th>\n",
              "    </tr>\n",
              "  </thead>\n",
              "  <tbody>\n",
              "    <tr>\n",
              "      <th>605</th>\n",
              "      <td>66</td>\n",
              "      <td>605</td>\n",
              "      <td>14865</td>\n",
              "      <td>KISANYA VICTOR INDIAZI</td>\n",
              "      <td>MAROON</td>\n",
              "      <td>278C+</td>\n",
              "      <td>45C-</td>\n",
              "      <td>74B</td>\n",
              "      <td>43C-</td>\n",
              "      <td>10E</td>\n",
              "      <td>...</td>\n",
              "      <td>NaN</td>\n",
              "      <td>NaN</td>\n",
              "      <td>NaN</td>\n",
              "      <td>NaN</td>\n",
              "      <td>52C</td>\n",
              "      <td>10</td>\n",
              "      <td>460</td>\n",
              "      <td>0.0</td>\n",
              "      <td>Z</td>\n",
              "      <td>-7</td>\n",
              "    </tr>\n",
              "    <tr>\n",
              "      <th>606</th>\n",
              "      <td>68</td>\n",
              "      <td>605</td>\n",
              "      <td>15285</td>\n",
              "      <td>ANTONY LIANZIKA MIDEGA</td>\n",
              "      <td>SILVER</td>\n",
              "      <td>255C</td>\n",
              "      <td>32D-</td>\n",
              "      <td>52C</td>\n",
              "      <td>45C</td>\n",
              "      <td>17E</td>\n",
              "      <td>...</td>\n",
              "      <td>22E</td>\n",
              "      <td>NaN</td>\n",
              "      <td>NaN</td>\n",
              "      <td>NaN</td>\n",
              "      <td>36D</td>\n",
              "      <td>10</td>\n",
              "      <td>391</td>\n",
              "      <td>0.0</td>\n",
              "      <td>Z</td>\n",
              "      <td>-6</td>\n",
              "    </tr>\n",
              "  </tbody>\n",
              "</table>\n",
              "<p>2 rows × 26 columns</p>\n",
              "</div>\n",
              "    <div class=\"colab-df-buttons\">\n",
              "\n",
              "  <div class=\"colab-df-container\">\n",
              "    <button class=\"colab-df-convert\" onclick=\"convertToInteractive('df-12657781-037e-4bd6-b9b6-752455ac3c56')\"\n",
              "            title=\"Convert this dataframe to an interactive table.\"\n",
              "            style=\"display:none;\">\n",
              "\n",
              "  <svg xmlns=\"http://www.w3.org/2000/svg\" height=\"24px\" viewBox=\"0 -960 960 960\">\n",
              "    <path d=\"M120-120v-720h720v720H120Zm60-500h600v-160H180v160Zm220 220h160v-160H400v160Zm0 220h160v-160H400v160ZM180-400h160v-160H180v160Zm440 0h160v-160H620v160ZM180-180h160v-160H180v160Zm440 0h160v-160H620v160Z\"/>\n",
              "  </svg>\n",
              "    </button>\n",
              "\n",
              "  <style>\n",
              "    .colab-df-container {\n",
              "      display:flex;\n",
              "      gap: 12px;\n",
              "    }\n",
              "\n",
              "    .colab-df-convert {\n",
              "      background-color: #E8F0FE;\n",
              "      border: none;\n",
              "      border-radius: 50%;\n",
              "      cursor: pointer;\n",
              "      display: none;\n",
              "      fill: #1967D2;\n",
              "      height: 32px;\n",
              "      padding: 0 0 0 0;\n",
              "      width: 32px;\n",
              "    }\n",
              "\n",
              "    .colab-df-convert:hover {\n",
              "      background-color: #E2EBFA;\n",
              "      box-shadow: 0px 1px 2px rgba(60, 64, 67, 0.3), 0px 1px 3px 1px rgba(60, 64, 67, 0.15);\n",
              "      fill: #174EA6;\n",
              "    }\n",
              "\n",
              "    .colab-df-buttons div {\n",
              "      margin-bottom: 4px;\n",
              "    }\n",
              "\n",
              "    [theme=dark] .colab-df-convert {\n",
              "      background-color: #3B4455;\n",
              "      fill: #D2E3FC;\n",
              "    }\n",
              "\n",
              "    [theme=dark] .colab-df-convert:hover {\n",
              "      background-color: #434B5C;\n",
              "      box-shadow: 0px 1px 3px 1px rgba(0, 0, 0, 0.15);\n",
              "      filter: drop-shadow(0px 1px 2px rgba(0, 0, 0, 0.3));\n",
              "      fill: #FFFFFF;\n",
              "    }\n",
              "  </style>\n",
              "\n",
              "    <script>\n",
              "      const buttonEl =\n",
              "        document.querySelector('#df-12657781-037e-4bd6-b9b6-752455ac3c56 button.colab-df-convert');\n",
              "      buttonEl.style.display =\n",
              "        google.colab.kernel.accessAllowed ? 'block' : 'none';\n",
              "\n",
              "      async function convertToInteractive(key) {\n",
              "        const element = document.querySelector('#df-12657781-037e-4bd6-b9b6-752455ac3c56');\n",
              "        const dataTable =\n",
              "          await google.colab.kernel.invokeFunction('convertToInteractive',\n",
              "                                                    [key], {});\n",
              "        if (!dataTable) return;\n",
              "\n",
              "        const docLinkHtml = 'Like what you see? Visit the ' +\n",
              "          '<a target=\"_blank\" href=https://colab.research.google.com/notebooks/data_table.ipynb>data table notebook</a>'\n",
              "          + ' to learn more about interactive tables.';\n",
              "        element.innerHTML = '';\n",
              "        dataTable['output_type'] = 'display_data';\n",
              "        await google.colab.output.renderOutput(dataTable, element);\n",
              "        const docLink = document.createElement('div');\n",
              "        docLink.innerHTML = docLinkHtml;\n",
              "        element.appendChild(docLink);\n",
              "      }\n",
              "    </script>\n",
              "  </div>\n",
              "\n",
              "\n",
              "<div id=\"df-4b7c94e2-342f-4b2d-9b9d-6626f4e554d3\">\n",
              "  <button class=\"colab-df-quickchart\" onclick=\"quickchart('df-4b7c94e2-342f-4b2d-9b9d-6626f4e554d3')\"\n",
              "            title=\"Suggest charts\"\n",
              "            style=\"display:none;\">\n",
              "\n",
              "<svg xmlns=\"http://www.w3.org/2000/svg\" height=\"24px\"viewBox=\"0 0 24 24\"\n",
              "     width=\"24px\">\n",
              "    <g>\n",
              "        <path d=\"M19 3H5c-1.1 0-2 .9-2 2v14c0 1.1.9 2 2 2h14c1.1 0 2-.9 2-2V5c0-1.1-.9-2-2-2zM9 17H7v-7h2v7zm4 0h-2V7h2v10zm4 0h-2v-4h2v4z\"/>\n",
              "    </g>\n",
              "</svg>\n",
              "  </button>\n",
              "\n",
              "<style>\n",
              "  .colab-df-quickchart {\n",
              "      --bg-color: #E8F0FE;\n",
              "      --fill-color: #1967D2;\n",
              "      --hover-bg-color: #E2EBFA;\n",
              "      --hover-fill-color: #174EA6;\n",
              "      --disabled-fill-color: #AAA;\n",
              "      --disabled-bg-color: #DDD;\n",
              "  }\n",
              "\n",
              "  [theme=dark] .colab-df-quickchart {\n",
              "      --bg-color: #3B4455;\n",
              "      --fill-color: #D2E3FC;\n",
              "      --hover-bg-color: #434B5C;\n",
              "      --hover-fill-color: #FFFFFF;\n",
              "      --disabled-bg-color: #3B4455;\n",
              "      --disabled-fill-color: #666;\n",
              "  }\n",
              "\n",
              "  .colab-df-quickchart {\n",
              "    background-color: var(--bg-color);\n",
              "    border: none;\n",
              "    border-radius: 50%;\n",
              "    cursor: pointer;\n",
              "    display: none;\n",
              "    fill: var(--fill-color);\n",
              "    height: 32px;\n",
              "    padding: 0;\n",
              "    width: 32px;\n",
              "  }\n",
              "\n",
              "  .colab-df-quickchart:hover {\n",
              "    background-color: var(--hover-bg-color);\n",
              "    box-shadow: 0 1px 2px rgba(60, 64, 67, 0.3), 0 1px 3px 1px rgba(60, 64, 67, 0.15);\n",
              "    fill: var(--button-hover-fill-color);\n",
              "  }\n",
              "\n",
              "  .colab-df-quickchart-complete:disabled,\n",
              "  .colab-df-quickchart-complete:disabled:hover {\n",
              "    background-color: var(--disabled-bg-color);\n",
              "    fill: var(--disabled-fill-color);\n",
              "    box-shadow: none;\n",
              "  }\n",
              "\n",
              "  .colab-df-spinner {\n",
              "    border: 2px solid var(--fill-color);\n",
              "    border-color: transparent;\n",
              "    border-bottom-color: var(--fill-color);\n",
              "    animation:\n",
              "      spin 1s steps(1) infinite;\n",
              "  }\n",
              "\n",
              "  @keyframes spin {\n",
              "    0% {\n",
              "      border-color: transparent;\n",
              "      border-bottom-color: var(--fill-color);\n",
              "      border-left-color: var(--fill-color);\n",
              "    }\n",
              "    20% {\n",
              "      border-color: transparent;\n",
              "      border-left-color: var(--fill-color);\n",
              "      border-top-color: var(--fill-color);\n",
              "    }\n",
              "    30% {\n",
              "      border-color: transparent;\n",
              "      border-left-color: var(--fill-color);\n",
              "      border-top-color: var(--fill-color);\n",
              "      border-right-color: var(--fill-color);\n",
              "    }\n",
              "    40% {\n",
              "      border-color: transparent;\n",
              "      border-right-color: var(--fill-color);\n",
              "      border-top-color: var(--fill-color);\n",
              "    }\n",
              "    60% {\n",
              "      border-color: transparent;\n",
              "      border-right-color: var(--fill-color);\n",
              "    }\n",
              "    80% {\n",
              "      border-color: transparent;\n",
              "      border-right-color: var(--fill-color);\n",
              "      border-bottom-color: var(--fill-color);\n",
              "    }\n",
              "    90% {\n",
              "      border-color: transparent;\n",
              "      border-bottom-color: var(--fill-color);\n",
              "    }\n",
              "  }\n",
              "</style>\n",
              "\n",
              "  <script>\n",
              "    async function quickchart(key) {\n",
              "      const quickchartButtonEl =\n",
              "        document.querySelector('#' + key + ' button');\n",
              "      quickchartButtonEl.disabled = true;  // To prevent multiple clicks.\n",
              "      quickchartButtonEl.classList.add('colab-df-spinner');\n",
              "      try {\n",
              "        const charts = await google.colab.kernel.invokeFunction(\n",
              "            'suggestCharts', [key], {});\n",
              "      } catch (error) {\n",
              "        console.error('Error during call to suggestCharts:', error);\n",
              "      }\n",
              "      quickchartButtonEl.classList.remove('colab-df-spinner');\n",
              "      quickchartButtonEl.classList.add('colab-df-quickchart-complete');\n",
              "    }\n",
              "    (() => {\n",
              "      let quickchartButtonEl =\n",
              "        document.querySelector('#df-4b7c94e2-342f-4b2d-9b9d-6626f4e554d3 button');\n",
              "      quickchartButtonEl.style.display =\n",
              "        google.colab.kernel.accessAllowed ? 'block' : 'none';\n",
              "    })();\n",
              "  </script>\n",
              "</div>\n",
              "\n",
              "    </div>\n",
              "  </div>\n"
            ],
            "application/vnd.google.colaboratory.intrinsic+json": {
              "type": "dataframe"
            }
          },
          "metadata": {},
          "execution_count": 45
        }
      ]
    },
    {
      "cell_type": "code",
      "source": [
        "df.describe()"
      ],
      "metadata": {
        "colab": {
          "base_uri": "https://localhost:8080/",
          "height": 0
        },
        "id": "NpbWysYpIzk1",
        "outputId": "456ddc5c-bfaf-40f4-e812-2ee41ff40955"
      },
      "execution_count": 46,
      "outputs": [
        {
          "output_type": "execute_result",
          "data": {
            "text/plain": [
              "               CP          OP           ADM          SE       T mks  \\\n",
              "count  607.000000  607.000000    607.000000  607.000000  607.000000   \n",
              "mean    34.294893  304.084020  15051.304778   10.988468  649.948929   \n",
              "std     19.630423  175.717908    178.848963    0.176692  123.599530   \n",
              "min      1.000000    1.000000  14736.000000    7.000000  207.000000   \n",
              "25%     17.000000  153.000000  14895.500000   11.000000  572.000000   \n",
              "50%     34.000000  304.000000  15051.000000   11.000000  659.000000   \n",
              "75%     51.000000  455.000000  15206.000000   11.000000  736.000000   \n",
              "max     73.000000  605.000000  15361.000000   11.000000  918.000000   \n",
              "\n",
              "           MMearakn.         VAP  \n",
              "count     607.000000  607.000000  \n",
              "mean      915.449753    0.939044  \n",
              "std     21103.762704    1.540833  \n",
              "min         0.000000   -7.000000  \n",
              "25%        52.000000    0.000000  \n",
              "50%        59.909100    1.000000  \n",
              "75%        67.000000    2.000000  \n",
              "max    520000.000000    8.000000  "
            ],
            "text/html": [
              "\n",
              "  <div id=\"df-ea053b48-54b1-44fd-96ca-60a9471aae2f\" class=\"colab-df-container\">\n",
              "    <div>\n",
              "<style scoped>\n",
              "    .dataframe tbody tr th:only-of-type {\n",
              "        vertical-align: middle;\n",
              "    }\n",
              "\n",
              "    .dataframe tbody tr th {\n",
              "        vertical-align: top;\n",
              "    }\n",
              "\n",
              "    .dataframe thead th {\n",
              "        text-align: right;\n",
              "    }\n",
              "</style>\n",
              "<table border=\"1\" class=\"dataframe\">\n",
              "  <thead>\n",
              "    <tr style=\"text-align: right;\">\n",
              "      <th></th>\n",
              "      <th>CP</th>\n",
              "      <th>OP</th>\n",
              "      <th>ADM</th>\n",
              "      <th>SE</th>\n",
              "      <th>T mks</th>\n",
              "      <th>MMearakn.</th>\n",
              "      <th>VAP</th>\n",
              "    </tr>\n",
              "  </thead>\n",
              "  <tbody>\n",
              "    <tr>\n",
              "      <th>count</th>\n",
              "      <td>607.000000</td>\n",
              "      <td>607.000000</td>\n",
              "      <td>607.000000</td>\n",
              "      <td>607.000000</td>\n",
              "      <td>607.000000</td>\n",
              "      <td>607.000000</td>\n",
              "      <td>607.000000</td>\n",
              "    </tr>\n",
              "    <tr>\n",
              "      <th>mean</th>\n",
              "      <td>34.294893</td>\n",
              "      <td>304.084020</td>\n",
              "      <td>15051.304778</td>\n",
              "      <td>10.988468</td>\n",
              "      <td>649.948929</td>\n",
              "      <td>915.449753</td>\n",
              "      <td>0.939044</td>\n",
              "    </tr>\n",
              "    <tr>\n",
              "      <th>std</th>\n",
              "      <td>19.630423</td>\n",
              "      <td>175.717908</td>\n",
              "      <td>178.848963</td>\n",
              "      <td>0.176692</td>\n",
              "      <td>123.599530</td>\n",
              "      <td>21103.762704</td>\n",
              "      <td>1.540833</td>\n",
              "    </tr>\n",
              "    <tr>\n",
              "      <th>min</th>\n",
              "      <td>1.000000</td>\n",
              "      <td>1.000000</td>\n",
              "      <td>14736.000000</td>\n",
              "      <td>7.000000</td>\n",
              "      <td>207.000000</td>\n",
              "      <td>0.000000</td>\n",
              "      <td>-7.000000</td>\n",
              "    </tr>\n",
              "    <tr>\n",
              "      <th>25%</th>\n",
              "      <td>17.000000</td>\n",
              "      <td>153.000000</td>\n",
              "      <td>14895.500000</td>\n",
              "      <td>11.000000</td>\n",
              "      <td>572.000000</td>\n",
              "      <td>52.000000</td>\n",
              "      <td>0.000000</td>\n",
              "    </tr>\n",
              "    <tr>\n",
              "      <th>50%</th>\n",
              "      <td>34.000000</td>\n",
              "      <td>304.000000</td>\n",
              "      <td>15051.000000</td>\n",
              "      <td>11.000000</td>\n",
              "      <td>659.000000</td>\n",
              "      <td>59.909100</td>\n",
              "      <td>1.000000</td>\n",
              "    </tr>\n",
              "    <tr>\n",
              "      <th>75%</th>\n",
              "      <td>51.000000</td>\n",
              "      <td>455.000000</td>\n",
              "      <td>15206.000000</td>\n",
              "      <td>11.000000</td>\n",
              "      <td>736.000000</td>\n",
              "      <td>67.000000</td>\n",
              "      <td>2.000000</td>\n",
              "    </tr>\n",
              "    <tr>\n",
              "      <th>max</th>\n",
              "      <td>73.000000</td>\n",
              "      <td>605.000000</td>\n",
              "      <td>15361.000000</td>\n",
              "      <td>11.000000</td>\n",
              "      <td>918.000000</td>\n",
              "      <td>520000.000000</td>\n",
              "      <td>8.000000</td>\n",
              "    </tr>\n",
              "  </tbody>\n",
              "</table>\n",
              "</div>\n",
              "    <div class=\"colab-df-buttons\">\n",
              "\n",
              "  <div class=\"colab-df-container\">\n",
              "    <button class=\"colab-df-convert\" onclick=\"convertToInteractive('df-ea053b48-54b1-44fd-96ca-60a9471aae2f')\"\n",
              "            title=\"Convert this dataframe to an interactive table.\"\n",
              "            style=\"display:none;\">\n",
              "\n",
              "  <svg xmlns=\"http://www.w3.org/2000/svg\" height=\"24px\" viewBox=\"0 -960 960 960\">\n",
              "    <path d=\"M120-120v-720h720v720H120Zm60-500h600v-160H180v160Zm220 220h160v-160H400v160Zm0 220h160v-160H400v160ZM180-400h160v-160H180v160Zm440 0h160v-160H620v160ZM180-180h160v-160H180v160Zm440 0h160v-160H620v160Z\"/>\n",
              "  </svg>\n",
              "    </button>\n",
              "\n",
              "  <style>\n",
              "    .colab-df-container {\n",
              "      display:flex;\n",
              "      gap: 12px;\n",
              "    }\n",
              "\n",
              "    .colab-df-convert {\n",
              "      background-color: #E8F0FE;\n",
              "      border: none;\n",
              "      border-radius: 50%;\n",
              "      cursor: pointer;\n",
              "      display: none;\n",
              "      fill: #1967D2;\n",
              "      height: 32px;\n",
              "      padding: 0 0 0 0;\n",
              "      width: 32px;\n",
              "    }\n",
              "\n",
              "    .colab-df-convert:hover {\n",
              "      background-color: #E2EBFA;\n",
              "      box-shadow: 0px 1px 2px rgba(60, 64, 67, 0.3), 0px 1px 3px 1px rgba(60, 64, 67, 0.15);\n",
              "      fill: #174EA6;\n",
              "    }\n",
              "\n",
              "    .colab-df-buttons div {\n",
              "      margin-bottom: 4px;\n",
              "    }\n",
              "\n",
              "    [theme=dark] .colab-df-convert {\n",
              "      background-color: #3B4455;\n",
              "      fill: #D2E3FC;\n",
              "    }\n",
              "\n",
              "    [theme=dark] .colab-df-convert:hover {\n",
              "      background-color: #434B5C;\n",
              "      box-shadow: 0px 1px 3px 1px rgba(0, 0, 0, 0.15);\n",
              "      filter: drop-shadow(0px 1px 2px rgba(0, 0, 0, 0.3));\n",
              "      fill: #FFFFFF;\n",
              "    }\n",
              "  </style>\n",
              "\n",
              "    <script>\n",
              "      const buttonEl =\n",
              "        document.querySelector('#df-ea053b48-54b1-44fd-96ca-60a9471aae2f button.colab-df-convert');\n",
              "      buttonEl.style.display =\n",
              "        google.colab.kernel.accessAllowed ? 'block' : 'none';\n",
              "\n",
              "      async function convertToInteractive(key) {\n",
              "        const element = document.querySelector('#df-ea053b48-54b1-44fd-96ca-60a9471aae2f');\n",
              "        const dataTable =\n",
              "          await google.colab.kernel.invokeFunction('convertToInteractive',\n",
              "                                                    [key], {});\n",
              "        if (!dataTable) return;\n",
              "\n",
              "        const docLinkHtml = 'Like what you see? Visit the ' +\n",
              "          '<a target=\"_blank\" href=https://colab.research.google.com/notebooks/data_table.ipynb>data table notebook</a>'\n",
              "          + ' to learn more about interactive tables.';\n",
              "        element.innerHTML = '';\n",
              "        dataTable['output_type'] = 'display_data';\n",
              "        await google.colab.output.renderOutput(dataTable, element);\n",
              "        const docLink = document.createElement('div');\n",
              "        docLink.innerHTML = docLinkHtml;\n",
              "        element.appendChild(docLink);\n",
              "      }\n",
              "    </script>\n",
              "  </div>\n",
              "\n",
              "\n",
              "<div id=\"df-ef2d1678-6a55-4adc-aa43-956701856172\">\n",
              "  <button class=\"colab-df-quickchart\" onclick=\"quickchart('df-ef2d1678-6a55-4adc-aa43-956701856172')\"\n",
              "            title=\"Suggest charts\"\n",
              "            style=\"display:none;\">\n",
              "\n",
              "<svg xmlns=\"http://www.w3.org/2000/svg\" height=\"24px\"viewBox=\"0 0 24 24\"\n",
              "     width=\"24px\">\n",
              "    <g>\n",
              "        <path d=\"M19 3H5c-1.1 0-2 .9-2 2v14c0 1.1.9 2 2 2h14c1.1 0 2-.9 2-2V5c0-1.1-.9-2-2-2zM9 17H7v-7h2v7zm4 0h-2V7h2v10zm4 0h-2v-4h2v4z\"/>\n",
              "    </g>\n",
              "</svg>\n",
              "  </button>\n",
              "\n",
              "<style>\n",
              "  .colab-df-quickchart {\n",
              "      --bg-color: #E8F0FE;\n",
              "      --fill-color: #1967D2;\n",
              "      --hover-bg-color: #E2EBFA;\n",
              "      --hover-fill-color: #174EA6;\n",
              "      --disabled-fill-color: #AAA;\n",
              "      --disabled-bg-color: #DDD;\n",
              "  }\n",
              "\n",
              "  [theme=dark] .colab-df-quickchart {\n",
              "      --bg-color: #3B4455;\n",
              "      --fill-color: #D2E3FC;\n",
              "      --hover-bg-color: #434B5C;\n",
              "      --hover-fill-color: #FFFFFF;\n",
              "      --disabled-bg-color: #3B4455;\n",
              "      --disabled-fill-color: #666;\n",
              "  }\n",
              "\n",
              "  .colab-df-quickchart {\n",
              "    background-color: var(--bg-color);\n",
              "    border: none;\n",
              "    border-radius: 50%;\n",
              "    cursor: pointer;\n",
              "    display: none;\n",
              "    fill: var(--fill-color);\n",
              "    height: 32px;\n",
              "    padding: 0;\n",
              "    width: 32px;\n",
              "  }\n",
              "\n",
              "  .colab-df-quickchart:hover {\n",
              "    background-color: var(--hover-bg-color);\n",
              "    box-shadow: 0 1px 2px rgba(60, 64, 67, 0.3), 0 1px 3px 1px rgba(60, 64, 67, 0.15);\n",
              "    fill: var(--button-hover-fill-color);\n",
              "  }\n",
              "\n",
              "  .colab-df-quickchart-complete:disabled,\n",
              "  .colab-df-quickchart-complete:disabled:hover {\n",
              "    background-color: var(--disabled-bg-color);\n",
              "    fill: var(--disabled-fill-color);\n",
              "    box-shadow: none;\n",
              "  }\n",
              "\n",
              "  .colab-df-spinner {\n",
              "    border: 2px solid var(--fill-color);\n",
              "    border-color: transparent;\n",
              "    border-bottom-color: var(--fill-color);\n",
              "    animation:\n",
              "      spin 1s steps(1) infinite;\n",
              "  }\n",
              "\n",
              "  @keyframes spin {\n",
              "    0% {\n",
              "      border-color: transparent;\n",
              "      border-bottom-color: var(--fill-color);\n",
              "      border-left-color: var(--fill-color);\n",
              "    }\n",
              "    20% {\n",
              "      border-color: transparent;\n",
              "      border-left-color: var(--fill-color);\n",
              "      border-top-color: var(--fill-color);\n",
              "    }\n",
              "    30% {\n",
              "      border-color: transparent;\n",
              "      border-left-color: var(--fill-color);\n",
              "      border-top-color: var(--fill-color);\n",
              "      border-right-color: var(--fill-color);\n",
              "    }\n",
              "    40% {\n",
              "      border-color: transparent;\n",
              "      border-right-color: var(--fill-color);\n",
              "      border-top-color: var(--fill-color);\n",
              "    }\n",
              "    60% {\n",
              "      border-color: transparent;\n",
              "      border-right-color: var(--fill-color);\n",
              "    }\n",
              "    80% {\n",
              "      border-color: transparent;\n",
              "      border-right-color: var(--fill-color);\n",
              "      border-bottom-color: var(--fill-color);\n",
              "    }\n",
              "    90% {\n",
              "      border-color: transparent;\n",
              "      border-bottom-color: var(--fill-color);\n",
              "    }\n",
              "  }\n",
              "</style>\n",
              "\n",
              "  <script>\n",
              "    async function quickchart(key) {\n",
              "      const quickchartButtonEl =\n",
              "        document.querySelector('#' + key + ' button');\n",
              "      quickchartButtonEl.disabled = true;  // To prevent multiple clicks.\n",
              "      quickchartButtonEl.classList.add('colab-df-spinner');\n",
              "      try {\n",
              "        const charts = await google.colab.kernel.invokeFunction(\n",
              "            'suggestCharts', [key], {});\n",
              "      } catch (error) {\n",
              "        console.error('Error during call to suggestCharts:', error);\n",
              "      }\n",
              "      quickchartButtonEl.classList.remove('colab-df-spinner');\n",
              "      quickchartButtonEl.classList.add('colab-df-quickchart-complete');\n",
              "    }\n",
              "    (() => {\n",
              "      let quickchartButtonEl =\n",
              "        document.querySelector('#df-ef2d1678-6a55-4adc-aa43-956701856172 button');\n",
              "      quickchartButtonEl.style.display =\n",
              "        google.colab.kernel.accessAllowed ? 'block' : 'none';\n",
              "    })();\n",
              "  </script>\n",
              "</div>\n",
              "\n",
              "    </div>\n",
              "  </div>\n"
            ],
            "application/vnd.google.colaboratory.intrinsic+json": {
              "type": "dataframe",
              "summary": "{\n  \"name\": \"df\",\n  \"rows\": 8,\n  \"fields\": [\n    {\n      \"column\": \"CP\",\n      \"properties\": {\n        \"dtype\": \"number\",\n        \"std\": 204.18164014791373,\n        \"min\": 1.0,\n        \"max\": 607.0,\n        \"num_unique_values\": 8,\n        \"samples\": [\n          34.29489291598023,\n          34.0,\n          607.0\n        ],\n        \"semantic_type\": \"\",\n        \"description\": \"\"\n      }\n    },\n    {\n      \"column\": \"OP\",\n      \"properties\": {\n        \"dtype\": \"number\",\n        \"std\": 217.9596092219756,\n        \"min\": 1.0,\n        \"max\": 607.0,\n        \"num_unique_values\": 8,\n        \"samples\": [\n          304.0840197693575,\n          304.0,\n          607.0\n        ],\n        \"semantic_type\": \"\",\n        \"description\": \"\"\n      }\n    },\n    {\n      \"column\": \"ADM\",\n      \"properties\": {\n        \"dtype\": \"number\",\n        \"std\": 6788.497356407328,\n        \"min\": 178.84896284795835,\n        \"max\": 15361.0,\n        \"num_unique_values\": 8,\n        \"samples\": [\n          15051.304777594729,\n          15051.0,\n          607.0\n        ],\n        \"semantic_type\": \"\",\n        \"description\": \"\"\n      }\n    },\n    {\n      \"column\": \"SE\",\n      \"properties\": {\n        \"dtype\": \"number\",\n        \"std\": 211.50144420722575,\n        \"min\": 0.17669161255267932,\n        \"max\": 607.0,\n        \"num_unique_values\": 5,\n        \"samples\": [\n          10.98846787479407,\n          11.0,\n          0.17669161255267932\n        ],\n        \"semantic_type\": \"\",\n        \"description\": \"\"\n      }\n    },\n    {\n      \"column\": \"T mks\",\n      \"properties\": {\n        \"dtype\": \"number\",\n        \"std\": 265.76902942686974,\n        \"min\": 123.59953042839093,\n        \"max\": 918.0,\n        \"num_unique_values\": 8,\n        \"samples\": [\n          649.9489291598023,\n          659.0,\n          607.0\n        ],\n        \"semantic_type\": \"\",\n        \"description\": \"\"\n      }\n    },\n    {\n      \"column\": \"MMearakn.\",\n      \"properties\": {\n        \"dtype\": \"number\",\n        \"std\": 182841.42664422502,\n        \"min\": 0.0,\n        \"max\": 520000.0,\n        \"num_unique_values\": 8,\n        \"samples\": [\n          915.449752553542,\n          59.9091,\n          607.0\n        ],\n        \"semantic_type\": \"\",\n        \"description\": \"\"\n      }\n    },\n    {\n      \"column\": \"VAP\",\n      \"properties\": {\n        \"dtype\": \"number\",\n        \"std\": 214.3180416956724,\n        \"min\": -7.0,\n        \"max\": 607.0,\n        \"num_unique_values\": 8,\n        \"samples\": [\n          0.9390444810543658,\n          1.0,\n          607.0\n        ],\n        \"semantic_type\": \"\",\n        \"description\": \"\"\n      }\n    }\n  ]\n}"
            }
          },
          "metadata": {},
          "execution_count": 46
        }
      ]
    },
    {
      "cell_type": "code",
      "source": [
        "df.info()"
      ],
      "metadata": {
        "colab": {
          "base_uri": "https://localhost:8080/"
        },
        "id": "mnxtpBbnI2Cc",
        "outputId": "1a6f1882-2e08-4b4e-fbdb-f8f5e8f29e8c"
      },
      "execution_count": 47,
      "outputs": [
        {
          "output_type": "stream",
          "name": "stdout",
          "text": [
            "<class 'pandas.core.frame.DataFrame'>\n",
            "RangeIndex: 607 entries, 0 to 606\n",
            "Data columns (total 26 columns):\n",
            " #   Column     Non-Null Count  Dtype  \n",
            "---  ------     --------------  -----  \n",
            " 0   CP         607 non-null    int64  \n",
            " 1   OP         607 non-null    int64  \n",
            " 2   ADM        607 non-null    int64  \n",
            " 3   NAME       607 non-null    object \n",
            " 4   Stream     607 non-null    object \n",
            " 5   KCPE       607 non-null    object \n",
            " 6   ENG        607 non-null    object \n",
            " 7   KISW       605 non-null    object \n",
            " 8   MAT        607 non-null    object \n",
            " 9   BIO        607 non-null    object \n",
            " 10  PHY        606 non-null    object \n",
            " 11  CHEM       607 non-null    object \n",
            " 12  HIST       607 non-null    object \n",
            " 13  GEOG       607 non-null    object \n",
            " 14  CRE        605 non-null    object \n",
            " 15  AD         53 non-null     object \n",
            " 16  AGRI       219 non-null    object \n",
            " 17  COMP       134 non-null    object \n",
            " 18  FRE        95 non-null     object \n",
            " 19  MUS        105 non-null    object \n",
            " 20  BST        606 non-null    object \n",
            " 21  SE         607 non-null    int64  \n",
            " 22  T mks      607 non-null    int64  \n",
            " 23  MMearakn.  607 non-null    float64\n",
            " 24  GR.        607 non-null    object \n",
            " 25  VAP        607 non-null    int64  \n",
            "dtypes: float64(1), int64(6), object(19)\n",
            "memory usage: 123.4+ KB\n"
          ]
        }
      ]
    },
    {
      "cell_type": "markdown",
      "source": [
        "**OBJECTIVE 1 : TO FIND CORRELATION BETWEEN KCPE AND T MKS**"
      ],
      "metadata": {
        "id": "FfKuqzvB5b2J"
      }
    },
    {
      "cell_type": "code",
      "source": [
        "\n",
        "# Make a copy to avoid modifying the original DataFrame\n",
        "df2 = df.copy()\n",
        "\n",
        "# Handle non-string data types\n",
        "if df2['KCPE'].dtype != 'object':\n",
        "  df2['KCPE'] = df2['KCPE'].astype(str)\n",
        "\n",
        "# Remove all characters except numbers from the \"KCPE\" column\n",
        "df2[\"KCPE\"] = df2[\"KCPE\"].str.extract('(\\d+)')\n",
        "\n",
        "# Convert the \"KCPE\" column to numeric (assuming integers)\n",
        "df2[\"KCPE\"] = pd.to_numeric(df2[\"KCPE\"], errors='coerce')  # Handle non-numeric values\n",
        "\n",
        "# Calculate the correlation (assuming df2 and df have the same columns)\n",
        "correlation = df2[\"KCPE\"].corr(df[\"T mks\"])\n",
        "\n",
        "# Print the correlation coefficient\n",
        "print(\"Correlation between KCPE and T mks:\", correlation)\n"
      ],
      "metadata": {
        "colab": {
          "base_uri": "https://localhost:8080/"
        },
        "id": "ieOMWvb0UKg5",
        "outputId": "195455f2-420d-455a-a796-430c07101127"
      },
      "execution_count": 48,
      "outputs": [
        {
          "output_type": "stream",
          "name": "stdout",
          "text": [
            "Correlation between KCPE and T mks: 0.5443258195145292\n"
          ]
        }
      ]
    },
    {
      "cell_type": "markdown",
      "source": [
        "# Data Cleaning & Preprocessing"
      ],
      "metadata": {
        "id": "fZMYm3d2mk0k"
      }
    },
    {
      "cell_type": "markdown",
      "source": [
        "* **Handle missing values:** Implement your chosen strategy to address missing data points (e.g., deletion, imputation).\n",
        "* **Address inconsistencies:** Correct errors, typos, and formatting issues within the data.\n",
        "* **Encode categorical variables:**  Convert categorical data into numerical representations suitable for modeling (e.g., one-hot encoding, label encoding).\n",
        "* **Feature Scaling or Normalization:**  If necessary, scale or normalize the features to a common range for improved model performance.\n",
        "* **Feature Engineering:** Create new features by combining existing ones, transforming features, or extracting additional information to potentially enhance model performance.  "
      ],
      "metadata": {
        "id": "Ob2B3Eyup_TX"
      }
    },
    {
      "cell_type": "markdown",
      "source": [
        "**HANDLE MISSING VALUES**"
      ],
      "metadata": {
        "id": "Fn_b5kHeRAgv"
      }
    },
    {
      "cell_type": "code",
      "source": [
        "# DROP USELESS COLUMNS\n",
        "df3 = df2.drop(columns=['ADM','NAME','SE','VAP'], axis=1, inplace=False)\n",
        "print(df3.head(2))\n",
        "\n",
        "# Check for null values in the 'Name' column\n",
        "null_values_in_KCPE = df3['KCPE'].isnull()\n",
        "\n",
        "# Print the number of null values\n",
        "print('-------------------------------------------------------------------')\n",
        "print(\"Number of NULL values in 'KCPE':\", null_values_in_KCPE.sum())\n",
        "print('-------------------------------------------------------------------')\n"
      ],
      "metadata": {
        "colab": {
          "base_uri": "https://localhost:8080/"
        },
        "id": "hSvraHSmkK3Q",
        "outputId": "fc1cdbbd-a51f-4ab7-a862-d90a9f2b40b1"
      },
      "execution_count": 78,
      "outputs": [
        {
          "output_type": "stream",
          "name": "stdout",
          "text": [
            "   CP  OP  Stream   KCPE   ENG  KISW   MAT   BIO   PHY CHEM  ...   CRE   AD  \\\n",
            "0   1   1   WHITE  371.0  75B+  82A-  76A-   81A  57C+  84A  ...  100A  NaN   \n",
            "1   1   2  PURPLE  331.0  78B+   90A  64B-  77A-  78A-  80A  ...   96A  NaN   \n",
            "\n",
            "   AGRI COMP  FRE  MUS  BST T mks MMearakn.  GR.  \n",
            "0  84A-  NaN  NaN  NaN  98A   918   83.4545    A  \n",
            "1  82A-  NaN  NaN  NaN  96A   908   82.5455    A  \n",
            "\n",
            "[2 rows x 22 columns]\n",
            "-------------------------------------------------------------------\n",
            "Number of NULL values in 'KCPE': 6\n",
            "-------------------------------------------------------------------\n"
          ]
        }
      ]
    },
    {
      "cell_type": "code",
      "source": [
        "\n",
        "df3['KCPE'].fillna(df3['KCPE'].mean(), inplace=True)\n",
        "\n",
        "null_values_in_KCPE=df3['KCPE'].isnull()\n",
        "\n",
        "# Print the number of null values\n",
        "print('-------------------------------------------------------------------')\n",
        "print(\"Number of null values in 'KCPE':\", null_values_in_KCPE.sum())\n",
        "print('-------------------------------------------------------------------')\n",
        "df3.head(2)"
      ],
      "metadata": {
        "colab": {
          "base_uri": "https://localhost:8080/",
          "height": 0
        },
        "id": "ZLIbM3E_GwCY",
        "outputId": "1a16779a-1374-4256-8e45-0d241feef2b1"
      },
      "execution_count": 79,
      "outputs": [
        {
          "output_type": "stream",
          "name": "stdout",
          "text": [
            "-------------------------------------------------------------------\n",
            "Number of null values in 'KCPE': 0\n",
            "-------------------------------------------------------------------\n"
          ]
        },
        {
          "output_type": "execute_result",
          "data": {
            "text/plain": [
              "   CP  OP  Stream   KCPE   ENG  KISW   MAT   BIO   PHY CHEM  ...   CRE   AD  \\\n",
              "0   1   1   WHITE  371.0  75B+  82A-  76A-   81A  57C+  84A  ...  100A  NaN   \n",
              "1   1   2  PURPLE  331.0  78B+   90A  64B-  77A-  78A-  80A  ...   96A  NaN   \n",
              "\n",
              "   AGRI COMP  FRE  MUS  BST T mks MMearakn.  GR.  \n",
              "0  84A-  NaN  NaN  NaN  98A   918   83.4545    A  \n",
              "1  82A-  NaN  NaN  NaN  96A   908   82.5455    A  \n",
              "\n",
              "[2 rows x 22 columns]"
            ],
            "text/html": [
              "\n",
              "  <div id=\"df-d20c65c7-047b-4c75-ba83-b1ce62560925\" class=\"colab-df-container\">\n",
              "    <div>\n",
              "<style scoped>\n",
              "    .dataframe tbody tr th:only-of-type {\n",
              "        vertical-align: middle;\n",
              "    }\n",
              "\n",
              "    .dataframe tbody tr th {\n",
              "        vertical-align: top;\n",
              "    }\n",
              "\n",
              "    .dataframe thead th {\n",
              "        text-align: right;\n",
              "    }\n",
              "</style>\n",
              "<table border=\"1\" class=\"dataframe\">\n",
              "  <thead>\n",
              "    <tr style=\"text-align: right;\">\n",
              "      <th></th>\n",
              "      <th>CP</th>\n",
              "      <th>OP</th>\n",
              "      <th>Stream</th>\n",
              "      <th>KCPE</th>\n",
              "      <th>ENG</th>\n",
              "      <th>KISW</th>\n",
              "      <th>MAT</th>\n",
              "      <th>BIO</th>\n",
              "      <th>PHY</th>\n",
              "      <th>CHEM</th>\n",
              "      <th>...</th>\n",
              "      <th>CRE</th>\n",
              "      <th>AD</th>\n",
              "      <th>AGRI</th>\n",
              "      <th>COMP</th>\n",
              "      <th>FRE</th>\n",
              "      <th>MUS</th>\n",
              "      <th>BST</th>\n",
              "      <th>T mks</th>\n",
              "      <th>MMearakn.</th>\n",
              "      <th>GR.</th>\n",
              "    </tr>\n",
              "  </thead>\n",
              "  <tbody>\n",
              "    <tr>\n",
              "      <th>0</th>\n",
              "      <td>1</td>\n",
              "      <td>1</td>\n",
              "      <td>WHITE</td>\n",
              "      <td>371.0</td>\n",
              "      <td>75B+</td>\n",
              "      <td>82A-</td>\n",
              "      <td>76A-</td>\n",
              "      <td>81A</td>\n",
              "      <td>57C+</td>\n",
              "      <td>84A</td>\n",
              "      <td>...</td>\n",
              "      <td>100A</td>\n",
              "      <td>NaN</td>\n",
              "      <td>84A-</td>\n",
              "      <td>NaN</td>\n",
              "      <td>NaN</td>\n",
              "      <td>NaN</td>\n",
              "      <td>98A</td>\n",
              "      <td>918</td>\n",
              "      <td>83.4545</td>\n",
              "      <td>A</td>\n",
              "    </tr>\n",
              "    <tr>\n",
              "      <th>1</th>\n",
              "      <td>1</td>\n",
              "      <td>2</td>\n",
              "      <td>PURPLE</td>\n",
              "      <td>331.0</td>\n",
              "      <td>78B+</td>\n",
              "      <td>90A</td>\n",
              "      <td>64B-</td>\n",
              "      <td>77A-</td>\n",
              "      <td>78A-</td>\n",
              "      <td>80A</td>\n",
              "      <td>...</td>\n",
              "      <td>96A</td>\n",
              "      <td>NaN</td>\n",
              "      <td>82A-</td>\n",
              "      <td>NaN</td>\n",
              "      <td>NaN</td>\n",
              "      <td>NaN</td>\n",
              "      <td>96A</td>\n",
              "      <td>908</td>\n",
              "      <td>82.5455</td>\n",
              "      <td>A</td>\n",
              "    </tr>\n",
              "  </tbody>\n",
              "</table>\n",
              "<p>2 rows × 22 columns</p>\n",
              "</div>\n",
              "    <div class=\"colab-df-buttons\">\n",
              "\n",
              "  <div class=\"colab-df-container\">\n",
              "    <button class=\"colab-df-convert\" onclick=\"convertToInteractive('df-d20c65c7-047b-4c75-ba83-b1ce62560925')\"\n",
              "            title=\"Convert this dataframe to an interactive table.\"\n",
              "            style=\"display:none;\">\n",
              "\n",
              "  <svg xmlns=\"http://www.w3.org/2000/svg\" height=\"24px\" viewBox=\"0 -960 960 960\">\n",
              "    <path d=\"M120-120v-720h720v720H120Zm60-500h600v-160H180v160Zm220 220h160v-160H400v160Zm0 220h160v-160H400v160ZM180-400h160v-160H180v160Zm440 0h160v-160H620v160ZM180-180h160v-160H180v160Zm440 0h160v-160H620v160Z\"/>\n",
              "  </svg>\n",
              "    </button>\n",
              "\n",
              "  <style>\n",
              "    .colab-df-container {\n",
              "      display:flex;\n",
              "      gap: 12px;\n",
              "    }\n",
              "\n",
              "    .colab-df-convert {\n",
              "      background-color: #E8F0FE;\n",
              "      border: none;\n",
              "      border-radius: 50%;\n",
              "      cursor: pointer;\n",
              "      display: none;\n",
              "      fill: #1967D2;\n",
              "      height: 32px;\n",
              "      padding: 0 0 0 0;\n",
              "      width: 32px;\n",
              "    }\n",
              "\n",
              "    .colab-df-convert:hover {\n",
              "      background-color: #E2EBFA;\n",
              "      box-shadow: 0px 1px 2px rgba(60, 64, 67, 0.3), 0px 1px 3px 1px rgba(60, 64, 67, 0.15);\n",
              "      fill: #174EA6;\n",
              "    }\n",
              "\n",
              "    .colab-df-buttons div {\n",
              "      margin-bottom: 4px;\n",
              "    }\n",
              "\n",
              "    [theme=dark] .colab-df-convert {\n",
              "      background-color: #3B4455;\n",
              "      fill: #D2E3FC;\n",
              "    }\n",
              "\n",
              "    [theme=dark] .colab-df-convert:hover {\n",
              "      background-color: #434B5C;\n",
              "      box-shadow: 0px 1px 3px 1px rgba(0, 0, 0, 0.15);\n",
              "      filter: drop-shadow(0px 1px 2px rgba(0, 0, 0, 0.3));\n",
              "      fill: #FFFFFF;\n",
              "    }\n",
              "  </style>\n",
              "\n",
              "    <script>\n",
              "      const buttonEl =\n",
              "        document.querySelector('#df-d20c65c7-047b-4c75-ba83-b1ce62560925 button.colab-df-convert');\n",
              "      buttonEl.style.display =\n",
              "        google.colab.kernel.accessAllowed ? 'block' : 'none';\n",
              "\n",
              "      async function convertToInteractive(key) {\n",
              "        const element = document.querySelector('#df-d20c65c7-047b-4c75-ba83-b1ce62560925');\n",
              "        const dataTable =\n",
              "          await google.colab.kernel.invokeFunction('convertToInteractive',\n",
              "                                                    [key], {});\n",
              "        if (!dataTable) return;\n",
              "\n",
              "        const docLinkHtml = 'Like what you see? Visit the ' +\n",
              "          '<a target=\"_blank\" href=https://colab.research.google.com/notebooks/data_table.ipynb>data table notebook</a>'\n",
              "          + ' to learn more about interactive tables.';\n",
              "        element.innerHTML = '';\n",
              "        dataTable['output_type'] = 'display_data';\n",
              "        await google.colab.output.renderOutput(dataTable, element);\n",
              "        const docLink = document.createElement('div');\n",
              "        docLink.innerHTML = docLinkHtml;\n",
              "        element.appendChild(docLink);\n",
              "      }\n",
              "    </script>\n",
              "  </div>\n",
              "\n",
              "\n",
              "<div id=\"df-f7b89faf-1259-47a8-821a-d708a08de067\">\n",
              "  <button class=\"colab-df-quickchart\" onclick=\"quickchart('df-f7b89faf-1259-47a8-821a-d708a08de067')\"\n",
              "            title=\"Suggest charts\"\n",
              "            style=\"display:none;\">\n",
              "\n",
              "<svg xmlns=\"http://www.w3.org/2000/svg\" height=\"24px\"viewBox=\"0 0 24 24\"\n",
              "     width=\"24px\">\n",
              "    <g>\n",
              "        <path d=\"M19 3H5c-1.1 0-2 .9-2 2v14c0 1.1.9 2 2 2h14c1.1 0 2-.9 2-2V5c0-1.1-.9-2-2-2zM9 17H7v-7h2v7zm4 0h-2V7h2v10zm4 0h-2v-4h2v4z\"/>\n",
              "    </g>\n",
              "</svg>\n",
              "  </button>\n",
              "\n",
              "<style>\n",
              "  .colab-df-quickchart {\n",
              "      --bg-color: #E8F0FE;\n",
              "      --fill-color: #1967D2;\n",
              "      --hover-bg-color: #E2EBFA;\n",
              "      --hover-fill-color: #174EA6;\n",
              "      --disabled-fill-color: #AAA;\n",
              "      --disabled-bg-color: #DDD;\n",
              "  }\n",
              "\n",
              "  [theme=dark] .colab-df-quickchart {\n",
              "      --bg-color: #3B4455;\n",
              "      --fill-color: #D2E3FC;\n",
              "      --hover-bg-color: #434B5C;\n",
              "      --hover-fill-color: #FFFFFF;\n",
              "      --disabled-bg-color: #3B4455;\n",
              "      --disabled-fill-color: #666;\n",
              "  }\n",
              "\n",
              "  .colab-df-quickchart {\n",
              "    background-color: var(--bg-color);\n",
              "    border: none;\n",
              "    border-radius: 50%;\n",
              "    cursor: pointer;\n",
              "    display: none;\n",
              "    fill: var(--fill-color);\n",
              "    height: 32px;\n",
              "    padding: 0;\n",
              "    width: 32px;\n",
              "  }\n",
              "\n",
              "  .colab-df-quickchart:hover {\n",
              "    background-color: var(--hover-bg-color);\n",
              "    box-shadow: 0 1px 2px rgba(60, 64, 67, 0.3), 0 1px 3px 1px rgba(60, 64, 67, 0.15);\n",
              "    fill: var(--button-hover-fill-color);\n",
              "  }\n",
              "\n",
              "  .colab-df-quickchart-complete:disabled,\n",
              "  .colab-df-quickchart-complete:disabled:hover {\n",
              "    background-color: var(--disabled-bg-color);\n",
              "    fill: var(--disabled-fill-color);\n",
              "    box-shadow: none;\n",
              "  }\n",
              "\n",
              "  .colab-df-spinner {\n",
              "    border: 2px solid var(--fill-color);\n",
              "    border-color: transparent;\n",
              "    border-bottom-color: var(--fill-color);\n",
              "    animation:\n",
              "      spin 1s steps(1) infinite;\n",
              "  }\n",
              "\n",
              "  @keyframes spin {\n",
              "    0% {\n",
              "      border-color: transparent;\n",
              "      border-bottom-color: var(--fill-color);\n",
              "      border-left-color: var(--fill-color);\n",
              "    }\n",
              "    20% {\n",
              "      border-color: transparent;\n",
              "      border-left-color: var(--fill-color);\n",
              "      border-top-color: var(--fill-color);\n",
              "    }\n",
              "    30% {\n",
              "      border-color: transparent;\n",
              "      border-left-color: var(--fill-color);\n",
              "      border-top-color: var(--fill-color);\n",
              "      border-right-color: var(--fill-color);\n",
              "    }\n",
              "    40% {\n",
              "      border-color: transparent;\n",
              "      border-right-color: var(--fill-color);\n",
              "      border-top-color: var(--fill-color);\n",
              "    }\n",
              "    60% {\n",
              "      border-color: transparent;\n",
              "      border-right-color: var(--fill-color);\n",
              "    }\n",
              "    80% {\n",
              "      border-color: transparent;\n",
              "      border-right-color: var(--fill-color);\n",
              "      border-bottom-color: var(--fill-color);\n",
              "    }\n",
              "    90% {\n",
              "      border-color: transparent;\n",
              "      border-bottom-color: var(--fill-color);\n",
              "    }\n",
              "  }\n",
              "</style>\n",
              "\n",
              "  <script>\n",
              "    async function quickchart(key) {\n",
              "      const quickchartButtonEl =\n",
              "        document.querySelector('#' + key + ' button');\n",
              "      quickchartButtonEl.disabled = true;  // To prevent multiple clicks.\n",
              "      quickchartButtonEl.classList.add('colab-df-spinner');\n",
              "      try {\n",
              "        const charts = await google.colab.kernel.invokeFunction(\n",
              "            'suggestCharts', [key], {});\n",
              "      } catch (error) {\n",
              "        console.error('Error during call to suggestCharts:', error);\n",
              "      }\n",
              "      quickchartButtonEl.classList.remove('colab-df-spinner');\n",
              "      quickchartButtonEl.classList.add('colab-df-quickchart-complete');\n",
              "    }\n",
              "    (() => {\n",
              "      let quickchartButtonEl =\n",
              "        document.querySelector('#df-f7b89faf-1259-47a8-821a-d708a08de067 button');\n",
              "      quickchartButtonEl.style.display =\n",
              "        google.colab.kernel.accessAllowed ? 'block' : 'none';\n",
              "    })();\n",
              "  </script>\n",
              "</div>\n",
              "\n",
              "    </div>\n",
              "  </div>\n"
            ],
            "application/vnd.google.colaboratory.intrinsic+json": {
              "type": "dataframe",
              "variable_name": "df3"
            }
          },
          "metadata": {},
          "execution_count": 79
        }
      ]
    },
    {
      "cell_type": "markdown",
      "source": [
        "**HANDLE DUPLICATE RECORDS**\n",
        "\n"
      ],
      "metadata": {
        "id": "3Q9WUyauFnIR"
      }
    },
    {
      "cell_type": "code",
      "source": [
        "# Check for duplicate rows\n",
        "duplicates = df3.duplicated()\n",
        "\n",
        "# Print the number of duplicates (without considering the first occurrence)\n",
        "print(\"Number of duplicate rows:\", duplicates.sum())"
      ],
      "metadata": {
        "colab": {
          "base_uri": "https://localhost:8080/"
        },
        "id": "id4uGnsMYsQL",
        "outputId": "457af295-5112-4cfe-c382-93776144cb50"
      },
      "execution_count": 80,
      "outputs": [
        {
          "output_type": "stream",
          "name": "stdout",
          "text": [
            "Number of duplicate rows: 0\n"
          ]
        }
      ]
    },
    {
      "cell_type": "markdown",
      "source": [
        "**ADDRESS INCONCISTENCIES, DATA TYPES & CONVERSION**"
      ],
      "metadata": {
        "id": "NHuHFBkpZFRs"
      }
    },
    {
      "cell_type": "code",
      "source": [
        "df3.dtypes"
      ],
      "metadata": {
        "colab": {
          "base_uri": "https://localhost:8080/"
        },
        "id": "HPdPigqwZSpk",
        "outputId": "7dd086a9-a94b-4d84-dda7-bc41cc3aa54b"
      },
      "execution_count": 81,
      "outputs": [
        {
          "output_type": "execute_result",
          "data": {
            "text/plain": [
              "CP             int64\n",
              "OP             int64\n",
              "Stream        object\n",
              "KCPE         float64\n",
              "ENG           object\n",
              "KISW          object\n",
              "MAT           object\n",
              "BIO           object\n",
              "PHY           object\n",
              "CHEM          object\n",
              "HIST          object\n",
              "GEOG          object\n",
              "CRE           object\n",
              "AD            object\n",
              "AGRI          object\n",
              "COMP          object\n",
              "FRE           object\n",
              "MUS           object\n",
              "BST           object\n",
              "T mks          int64\n",
              "MMearakn.    float64\n",
              "GR.           object\n",
              "dtype: object"
            ]
          },
          "metadata": {},
          "execution_count": 81
        }
      ]
    },
    {
      "cell_type": "markdown",
      "source": [
        "**ENCODE CATEGORICAL DATA**"
      ],
      "metadata": {
        "id": "ND4iXpGfZaOr"
      }
    },
    {
      "cell_type": "code",
      "source": [
        "# To improve model performance we include Categorical data e.g.(CP,OP,Stream, Subjects,M,Mearakn)\n",
        "# Pandas provides  the get_dummies function which converts categorical values into numerical format(Binary format)\n",
        "# such that it is recognized by the algorithm as a placeholder for values and not hierarchical data\n",
        "# that can undergo numerical analysis.\n",
        "# ------------------------------------------------------------\n",
        "# DROP USELESS COLUMNS\n",
        "df4 = df2.drop(columns=['ADM','NAME','SE','VAP'], axis=1, inplace=False)\n",
        "#print(df4.head(2))\n",
        "\n",
        "# Handle non-string data types\n",
        "if df4['KCPE'].dtype != 'object':\n",
        "  df4['KCPE'] = df4['KCPE'].astype(str)\n",
        "\n",
        "# Remove all characters except numbers from the \"KCPE\" column\n",
        "df4[\"KCPE\"] = df4[\"KCPE\"].str.extract('(\\d+)')\n",
        "\n",
        "# Convert the \"KCPE\" column to numeric (assuming integers)\n",
        "df4[\"KCPE\"] = pd.to_numeric(df4[\"KCPE\"], errors='coerce')  # Handle non-numeric values\n",
        "#-----------------------------------------------------------------\n",
        "\n",
        "\n",
        "#---------------------------------------------------------------------------------\n",
        "# LABEL ENCODING FOR STREAM\n",
        "from sklearn.preprocessing import LabelEncoder\n",
        "\n",
        "# Identify categorical features i.e. Stream\n",
        "categorical_features = ['Stream']\n",
        "\n",
        "# Encode categorical features\n",
        "encoder = LabelEncoder()\n",
        "for col in categorical_features:\n",
        "  df4[col] = encoder.fit_transform(df4[col])\n",
        "#---------------------------------------------------------------------------------\n",
        "\n",
        "# TODO:\n",
        "# ORDINAL ENCODING FOR SUBJECTS.\n",
        "# subject categories have a clear and meaningful order.\n",
        "# Some combinations of subjects are more difficult than others.\n",
        "# Different combos i.e. Combo1, Combo2, Combo3\n",
        "\n",
        "\n",
        "\n",
        "#---------------------------------------------------------------------------------\n",
        "# ONE-HOT ENCODING FOR SUBJECTS\n",
        "\n",
        "# Define subject columns\n",
        "#subject_cols = ['ENG','KISW','MAT','BIO','PHY','CHEM','HIST','GEOG','CRE','AD','AGRI','COMP','FRE','MUS','BST']\n",
        "\n",
        "# Create a function for one-hot encoding\n",
        "#def encode_onehot(df4, col_names):\n",
        "#  encoded_df = pd.get_dummies(df4, columns=col_names)\n",
        "#  return encoded_df\n",
        "\n",
        "# Apply one-hot encoding to subject columns\n",
        "#df4 = encode_onehot(df4.copy(), subject_cols)  # Copy to avoid modifying original\n",
        "\n",
        "# CUSTOM ENCODING FOR SUBJECTS (1 IF SUBJECT IS TAKEN & 0 IF NOT)\n",
        "subject_cols = ['ENG','KISW','MAT','BIO','PHY','CHEM','HIST','GEOG','CRE','AD','AGRI','COMP','FRE','MUS','BST']\n",
        "\n",
        "def encode_marks_and_subjects_inplace(df):\n",
        "  # Replace empty cells with NaN (missing values)\n",
        "  df.fillna(pd.NA, inplace=True)\n",
        "\n",
        "  # Define a function to encode a single cell (missing: 0, available: 1)\n",
        "  def encode_cell(val):\n",
        "    return 1 if pd.notna(val) else 0\n",
        "\n",
        "  # Encode marks availability directly in columns\n",
        "  for col in subject_cols:\n",
        "    df[col] = df[col].apply(encode_cell)\n",
        "\n",
        "# Create a new, empty DataFrame with the same column names as df4\n",
        "df_custom_encoder = df4.iloc[:, :].copy()  # Select all columns and copy\n",
        "\n",
        "# Apply encoding functions (modifies df_custom_encoder directly)\n",
        "encode_marks_and_subjects_inplace(df_custom_encoder)\n",
        "\n",
        "# df_custom_encoder now has original values replaced with 0 (missing) or 1 (available)\n",
        "print(df_custom_encoder)\n",
        "\n",
        "\n",
        "\n",
        "\n",
        "\n",
        "\n",
        "# CREATE A NEW DATAFRAME WITH ENCODED COLUMNS\n",
        "encoded_features = df_custom_encoder.drop(columns=['CP','OP','Stream','KCPE','GR.','MMearakn.','T mks'], axis=1, inplace=False)\n",
        "print(df_custom_encoder.head(2))\n",
        "\n",
        "\n",
        "# Combine label-encoded categorical features and one-hot encoded features\n",
        "df_encoded = pd.concat([df4[categorical_features], encoded_features], axis=1)\n",
        "\n",
        "print('--------------------------------------')\n",
        "print(df_encoded.head(2))\n"
      ],
      "metadata": {
        "colab": {
          "base_uri": "https://localhost:8080/"
        },
        "id": "iUnZS9N-ZfUK",
        "outputId": "f939d786-b73c-4618-ff40-87eaa32fc9cf"
      },
      "execution_count": 82,
      "outputs": [
        {
          "output_type": "stream",
          "name": "stdout",
          "text": [
            "     CP   OP  Stream   KCPE  ENG  KISW  MAT  BIO  PHY  CHEM  ...  CRE  AD  \\\n",
            "0     1    1       7  371.0    1     1    1    1    1     1  ...    1   0   \n",
            "1     1    2       4  331.0    1     1    1    1    1     1  ...    1   0   \n",
            "2     1    3       6  376.0    1     1    1    1    1     1  ...    1   0   \n",
            "3     1    4       1  378.0    1     1    1    1    1     1  ...    1   0   \n",
            "4     1    4       3  382.0    1     1    1    1    1     1  ...    1   0   \n",
            "..   ..  ...     ...    ...  ...   ...  ...  ...  ...   ...  ...  ...  ..   \n",
            "602  67  603       6  346.0    1     1    1    1    1     1  ...    1   1   \n",
            "603  69  605       8    NaN    1     0    1    1    0     1  ...    0   0   \n",
            "604  68  605       0  282.0    1     0    1    1    1     1  ...    1   0   \n",
            "605  66  605       3  278.0    1     1    1    1    1     1  ...    1   0   \n",
            "606  68  605       6  255.0    1     1    1    1    1     1  ...    0   0   \n",
            "\n",
            "     AGRI  COMP  FRE  MUS  BST  T mks  MMearakn.  GR.  \n",
            "0       1     0    0    0    1    918    83.4545    A  \n",
            "1       1     0    0    0    1    908    82.5455    A  \n",
            "2       1     0    0    0    1    905    82.2727    A  \n",
            "3       0     0    1    0    1    903    82.0909    A  \n",
            "4       0     0    1    0    1    903    82.0909    A  \n",
            "..    ...   ...  ...  ...  ...    ...        ...  ...  \n",
            "602     0     0    0    0    1    207    18.8182    D  \n",
            "603     0     0    1    0    0    310     0.0000    Z  \n",
            "604     0     1    0    0    1    328     0.0000    Z  \n",
            "605     0     0    0    0    1    460     0.0000    Z  \n",
            "606     1     0    0    0    1    391     0.0000    Z  \n",
            "\n",
            "[607 rows x 22 columns]\n",
            "   CP  OP  Stream   KCPE  ENG  KISW  MAT  BIO  PHY  CHEM  ...  CRE  AD  AGRI  \\\n",
            "0   1   1       7  371.0    1     1    1    1    1     1  ...    1   0     1   \n",
            "1   1   2       4  331.0    1     1    1    1    1     1  ...    1   0     1   \n",
            "\n",
            "   COMP  FRE  MUS  BST  T mks  MMearakn.  GR.  \n",
            "0     0    0    0    1    918    83.4545    A  \n",
            "1     0    0    0    1    908    82.5455    A  \n",
            "\n",
            "[2 rows x 22 columns]\n",
            "--------------------------------------\n",
            "   Stream  ENG  KISW  MAT  BIO  PHY  CHEM  HIST  GEOG  CRE  AD  AGRI  COMP  \\\n",
            "0       7    1     1    1    1    1     1     1     1    1   0     1     0   \n",
            "1       4    1     1    1    1    1     1     1     1    1   0     1     0   \n",
            "\n",
            "   FRE  MUS  BST  \n",
            "0    0    0    1  \n",
            "1    0    0    1  \n"
          ]
        }
      ]
    },
    {
      "cell_type": "code",
      "source": [
        "# Check for null values in all columns\n",
        "null_values_count = df_encoded.isna().sum()\n",
        "\n",
        "# Print the count of null values in each column\n",
        "print(\"Null values count in each column:\\n\", null_values_count)"
      ],
      "metadata": {
        "colab": {
          "base_uri": "https://localhost:8080/"
        },
        "id": "g4wNKKzETjpU",
        "outputId": "2715e1c7-6e53-4b89-9e53-c20d2682505c"
      },
      "execution_count": 83,
      "outputs": [
        {
          "output_type": "stream",
          "name": "stdout",
          "text": [
            "Null values count in each column:\n",
            " Stream    0\n",
            "ENG       0\n",
            "KISW      0\n",
            "MAT       0\n",
            "BIO       0\n",
            "PHY       0\n",
            "CHEM      0\n",
            "HIST      0\n",
            "GEOG      0\n",
            "CRE       0\n",
            "AD        0\n",
            "AGRI      0\n",
            "COMP      0\n",
            "FRE       0\n",
            "MUS       0\n",
            "BST       0\n",
            "dtype: int64\n"
          ]
        }
      ]
    },
    {
      "cell_type": "markdown",
      "source": [
        "**HANDLE OUTLIERS**"
      ],
      "metadata": {
        "id": "xus2gjbfTxVT"
      }
    },
    {
      "cell_type": "markdown",
      "source": [
        "Outliers visualization techniques\n",
        "\n",
        "* Box Plot: This is a common choice for visualizing outliers. It shows the distribution of data points, including the median, quartiles (Q1, Q3), and potential outliers beyond the interquartile range (IQR).\n",
        "* Scatter Plot: A scatter plot can be useful for visualizing individual data points, especially if you have two numerical features. You can color-code points to highlight potential outliers.\n",
        "* Histogram: A histogram shows the frequency distribution of data points. It can reveal skewness in the data and the presence of outliers on the tails of the distribution.\n"
      ],
      "metadata": {
        "id": "D2Zv3CtJUQvW"
      }
    },
    {
      "cell_type": "code",
      "source": [
        "df4.dtypes"
      ],
      "metadata": {
        "colab": {
          "base_uri": "https://localhost:8080/"
        },
        "id": "uGlIMq9HoEM2",
        "outputId": "d39569fd-e0fd-41aa-c54c-5a955a5b60b7"
      },
      "execution_count": 84,
      "outputs": [
        {
          "output_type": "execute_result",
          "data": {
            "text/plain": [
              "CP             int64\n",
              "OP             int64\n",
              "Stream         int64\n",
              "KCPE         float64\n",
              "ENG           object\n",
              "KISW          object\n",
              "MAT           object\n",
              "BIO           object\n",
              "PHY           object\n",
              "CHEM          object\n",
              "HIST          object\n",
              "GEOG          object\n",
              "CRE           object\n",
              "AD            object\n",
              "AGRI          object\n",
              "COMP          object\n",
              "FRE           object\n",
              "MUS           object\n",
              "BST           object\n",
              "T mks          int64\n",
              "MMearakn.    float64\n",
              "GR.           object\n",
              "dtype: object"
            ]
          },
          "metadata": {},
          "execution_count": 84
        }
      ]
    },
    {
      "cell_type": "code",
      "source": [
        "\n",
        "# Handle non-string data types\n",
        "if df4['KCPE'].dtype != 'object':\n",
        "  df4['KCPE'] = df4['KCPE'].astype(str)\n",
        "\n",
        "# Remove all characters except numbers from the \"KCPE\" column\n",
        "df4[\"KCPE\"] = df4[\"KCPE\"].str.extract('(\\d+)')\n",
        "\n",
        "# Convert the \"KCPE\" column to numeric (assuming integers)\n",
        "df4[\"KCPE\"] = pd.to_numeric(df4[\"KCPE\"], errors='coerce')  # Handle non-numeric values\n",
        "\n",
        "# Convert 'KCPE' to float\n",
        "df4['KCPE'] = df4['KCPE'].astype(float)"
      ],
      "metadata": {
        "id": "1jo226EJoPMG"
      },
      "execution_count": 85,
      "outputs": []
    },
    {
      "cell_type": "code",
      "source": [
        "import seaborn as sns\n",
        "import matplotlib.pyplot as plt\n",
        "\n",
        "def visualize_data(df4, KCPE, kind='dist'):\n",
        "  # Plot before handling outliers\n",
        "  plt.figure()  # Create a new figure for each plot type\n",
        "  if kind == 'dist':\n",
        "    sns.displot(df4[KCPE])  # Use displot for distribution curve\n",
        "  elif kind == 'hist':\n",
        "    sns.histplot(df4[KCPE])  # Use histplot for histogram\n",
        "  else:\n",
        "    raise ValueError(\"kind must be 'dist' or 'hist'\")\n",
        "  plt.title(f\"{KCPE} Distribution (Before)\")\n",
        "\n",
        "  #---------------------------------------------------------------------------------\n",
        "  # Define IQR for outlier filtering\n",
        "  IQR = df4[KCPE].quantile(0.75) - df4[KCPE].quantile(0.25)\n",
        "  lower_bound = df4[KCPE].quantile(0.25) - (1.5 * IQR)\n",
        "  upper_bound = df4[KCPE].quantile(0.75) + (1.5 * IQR)\n",
        "\n",
        "  # Filter outliers\n",
        "  df_filtered = df4.query(f\"{KCPE} > @lower_bound and {KCPE} < @upper_bound\")\n",
        "  #---------------------------------------------------------------------------------\n",
        "\n",
        "  # Plot after handling outliers\n",
        "  if kind == 'dist':\n",
        "    sns.displot(df_filtered[KCPE])\n",
        "  elif kind == 'hist':\n",
        "    sns.histplot(df_filtered[KCPE])\n",
        "  else:\n",
        "    raise ValueError(\"kind must be 'dist' or 'hist'\")\n",
        "  plt.title(f\"{KCPE} Distribution (After Filtering)\")\n",
        "  plt.show()\n",
        "\n",
        "# Example usage (using distribution curve)\n",
        "visualize_data(df4, 'KCPE')\n",
        "\n",
        "# Example usage (using histogram)\n",
        "visualize_data(df4, 'KCPE', kind='hist')\n",
        "\n",
        "\n"
      ],
      "metadata": {
        "colab": {
          "base_uri": "https://localhost:8080/",
          "height": 0
        },
        "id": "Z-EnOtQITwub",
        "outputId": "6e0e011f-1e8d-4e71-fc5e-9ebfc41b0f70"
      },
      "execution_count": 86,
      "outputs": [
        {
          "output_type": "display_data",
          "data": {
            "text/plain": [
              "<Figure size 640x480 with 0 Axes>"
            ]
          },
          "metadata": {}
        },
        {
          "output_type": "display_data",
          "data": {
            "text/plain": [
              "<Figure size 500x500 with 1 Axes>"
            ],
            "image/png": "[encoded data removed]"
          },
          "metadata": {}
        },
        {
          "output_type": "display_data",
          "data": {
            "text/plain": [
              "<Figure size 500x500 with 1 Axes>"
            ],
            "image/png": "[encoded data removed]"
          },
          "metadata": {}
        },
        {
          "output_type": "display_data",
          "data": {
            "text/plain": [
              "<Figure size 640x480 with 1 Axes>"
            ],
            "image/png": "[encoded data removed]"
          },
          "metadata": {}
        }
      ]
    },
    {
      "cell_type": "code",
      "source": [
        "# A scatter plot to show the correlation between KCPE Marks and Total Marks Scored\n",
        "import matplotlib.pyplot as plt\n",
        "\n",
        "kcpe = df2[\"KCPE\"]\n",
        "t_mks = df2[\"T mks\"]\n",
        "\n",
        "# Calculate the correlation coefficient\n",
        "correlation = kcpe.corr(t_mks)\n",
        "\n",
        "# Create the scatter plot\n",
        "plt.scatter(kcpe, t_mks)\n",
        "\n",
        "# Add labels and title\n",
        "plt.xlabel(\"KCPE Scores\")\n",
        "plt.ylabel(\"T Mks Scores\")\n",
        "plt.title(\"Scatter Plot with Correlation (r = {:.2f})\".format(correlation))\n",
        "\n",
        "# Show the plot\n",
        "plt.show()"
      ],
      "metadata": {
        "colab": {
          "base_uri": "https://localhost:8080/",
          "height": 0
        },
        "id": "7B5TN5H61sZh",
        "outputId": "778f9c84-ba6f-441e-d637-fc9ab37e577c"
      },
      "execution_count": 87,
      "outputs": [
        {
          "output_type": "display_data",
          "data": {
            "text/plain": [
              "<Figure size 640x480 with 1 Axes>"
            ],
            "image/png": "[encoded data removed]"
          },
          "metadata": {}
        }
      ]
    },
    {
      "cell_type": "markdown",
      "source": [
        "# Model Building"
      ],
      "metadata": {
        "id": "xkq8sxkQpUiQ"
      }
    },
    {
      "cell_type": "markdown",
      "source": [
        "* **Choose a modeling technique:** Select a machine learning or statistical modeling approach suitable for your task (e.g., classification, regression).\n",
        "* **Split data into training and testing sets:** Divide your data into two subsets: a training set used to build the model and a testing set used to evaluate its generalizability.\n",
        "* **Train the model:** Train the model on the training data, allowing it to learn from the data and build relationships between features and the target variable.\n",
        "* **Hyperparameter tuning:**  Adjust hyperparameters (model configuration settings) to optimize model performance on the training data."
      ],
      "metadata": {
        "id": "pqJJZ5ScqJEU"
      }
    },
    {
      "cell_type": "code",
      "source": [
        "print(df_encoded)\n",
        "print()\n",
        "print('-----------------------------')\n",
        "print()\n",
        "print(categorical_features)"
      ],
      "metadata": {
        "colab": {
          "base_uri": "https://localhost:8080/"
        },
        "id": "kBQdcDq2uCD_",
        "outputId": "ea652db6-020a-4750-8654-9d312210a8d2"
      },
      "execution_count": 88,
      "outputs": [
        {
          "output_type": "stream",
          "name": "stdout",
          "text": [
            "     Stream  ENG  KISW  MAT  BIO  PHY  CHEM  HIST  GEOG  CRE  AD  AGRI  COMP  \\\n",
            "0         7    1     1    1    1    1     1     1     1    1   0     1     0   \n",
            "1         4    1     1    1    1    1     1     1     1    1   0     1     0   \n",
            "2         6    1     1    1    1    1     1     1     1    1   0     1     0   \n",
            "3         1    1     1    1    1    1     1     1     1    1   0     0     0   \n",
            "4         3    1     1    1    1    1     1     1     1    1   0     0     0   \n",
            "..      ...  ...   ...  ...  ...  ...   ...   ...   ...  ...  ..   ...   ...   \n",
            "602       6    1     1    1    1    1     1     1     1    1   1     0     0   \n",
            "603       8    1     0    1    1    0     1     1     1    0   0     0     0   \n",
            "604       0    1     0    1    1    1     1     1     1    1   0     0     1   \n",
            "605       3    1     1    1    1    1     1     1     1    1   0     0     0   \n",
            "606       6    1     1    1    1    1     1     1     1    0   0     1     0   \n",
            "\n",
            "     FRE  MUS  BST  \n",
            "0      0    0    1  \n",
            "1      0    0    1  \n",
            "2      0    0    1  \n",
            "3      1    0    1  \n",
            "4      1    0    1  \n",
            "..   ...  ...  ...  \n",
            "602    0    0    1  \n",
            "603    1    0    0  \n",
            "604    0    0    1  \n",
            "605    0    0    1  \n",
            "606    0    0    1  \n",
            "\n",
            "[607 rows x 16 columns]\n",
            "\n",
            "-----------------------------\n",
            "\n",
            "['Stream']\n"
          ]
        }
      ]
    },
    {
      "cell_type": "code",
      "source": [
        "from sklearn.linear_model import LinearRegression\n",
        "from sklearn.model_selection import train_test_split\n",
        "\n",
        "\n",
        "\n",
        "#----------------HANDLE MISSING VALUES -------------\n",
        "# Handle non-string data types\n",
        "if df4['KCPE'].dtype != 'object':\n",
        "  df4['KCPE'] = df4['KCPE'].astype(str)\n",
        "\n",
        "# Remove all characters except numbers from the \"KCPE\" column\n",
        "df4[\"KCPE\"] = df4[\"KCPE\"].str.extract('(\\d+)')\n",
        "\n",
        "# Convert the \"KCPE\" column to numeric (assuming integers)\n",
        "df4[\"KCPE\"] = pd.to_numeric(df4[\"KCPE\"], errors='coerce')  # Handle non-numeric values\n",
        "\n",
        "# Convert 'KCPE' to float\n",
        "df4['KCPE'] = df4['KCPE'].astype(float)\n",
        "\n",
        "df4['KCPE'].fillna(df4['KCPE'].mean(), inplace=True)\n",
        "\n",
        "\n",
        "\n",
        "\n",
        "# Select features and target variable (including encoded categorical features)\n",
        "X = pd.concat([df4[['KCPE']], df_encoded ], axis=1)\n",
        "y = df4['T mks']\n",
        "\n",
        "print('------------X AXIS ----------------')\n",
        "print(X.head(2))\n",
        "\n",
        "print('------------Y AXIS ----------------')\n",
        "print(y.head(2))\n",
        "\n",
        "\n",
        "\n",
        "\n",
        "print('----------- NULL CHECKS ----------------')\n",
        "# Ensuring No null values\n",
        "# Check for null values in all columns\n",
        "null_values_count2 = X.isna().sum()\n",
        "\n",
        "# Print the count of null values in each column\n",
        "print(\"Null values count in each column:\\n\", null_values_count2)"
      ],
      "metadata": {
        "colab": {
          "base_uri": "https://localhost:8080/"
        },
        "id": "pavpOR_JqKhc",
        "outputId": "54c33543-04f3-4309-bb61-8e69a847f6ba"
      },
      "execution_count": 89,
      "outputs": [
        {
          "output_type": "stream",
          "name": "stdout",
          "text": [
            "------------X AXIS ----------------\n",
            "    KCPE  Stream  ENG  KISW  MAT  BIO  PHY  CHEM  HIST  GEOG  CRE  AD  AGRI  \\\n",
            "0  371.0       7    1     1    1    1    1     1     1     1    1   0     1   \n",
            "1  331.0       4    1     1    1    1    1     1     1     1    1   0     1   \n",
            "\n",
            "   COMP  FRE  MUS  BST  \n",
            "0     0    0    0    1  \n",
            "1     0    0    0    1  \n",
            "------------Y AXIS ----------------\n",
            "0    918\n",
            "1    908\n",
            "Name: T mks, dtype: int64\n",
            "----------- NULL CHECKS ----------------\n",
            "Null values count in each column:\n",
            " KCPE      0\n",
            "Stream    0\n",
            "ENG       0\n",
            "KISW      0\n",
            "MAT       0\n",
            "BIO       0\n",
            "PHY       0\n",
            "CHEM      0\n",
            "HIST      0\n",
            "GEOG      0\n",
            "CRE       0\n",
            "AD        0\n",
            "AGRI      0\n",
            "COMP      0\n",
            "FRE       0\n",
            "MUS       0\n",
            "BST       0\n",
            "dtype: int64\n"
          ]
        }
      ]
    },
    {
      "cell_type": "markdown",
      "source": [
        "**SPLIT DATA INTO TRAINING AND TEST SET**"
      ],
      "metadata": {
        "id": "U8Mn_KihHyZE"
      }
    },
    {
      "cell_type": "code",
      "source": [
        "# Split data into training and testing sets (e.g., 80% training, 20% testing)\n",
        "X_train, X_test, y_train, y_test = train_test_split(X, y, test_size=0.2, random_state=42)"
      ],
      "metadata": {
        "id": "gwoRPeQ6HxxJ"
      },
      "execution_count": 90,
      "outputs": []
    },
    {
      "cell_type": "markdown",
      "source": [
        "**CREATE A LINEAR REGRESSION MODEL**"
      ],
      "metadata": {
        "id": "-t5rc8a5INEX"
      }
    },
    {
      "cell_type": "code",
      "source": [
        "# linear regression model using the the encoded features\n",
        "from sklearn.linear_model import LinearRegression\n",
        "from sklearn.model_selection import train_test_split\n",
        "\n",
        "# Split data into training and testing sets\n",
        "X_train, X_test, y_train, y_test = train_test_split(X, y, test_size=0.2, random_state=42)  # 80% training, 20% testing\n",
        "\n",
        "# Create a linear regression model\n",
        "model = LinearRegression()\n",
        "\n",
        "# Train the model on the training data\n",
        "model.fit(X_train, y_train)\n",
        "\n",
        "# Print the intercept and coefficients\n",
        "print('Intercept:', model.intercept_)\n",
        "print('Coefficients:', model.coef_)\n",
        "\n",
        "# Make predictions on the testing set\n",
        "y_pred = model.predict(X_test)\n",
        "\n",
        "\n"
      ],
      "metadata": {
        "colab": {
          "base_uri": "https://localhost:8080/"
        },
        "id": "JcTwIH2OIShH",
        "outputId": "107cdba4-971d-48e9-b2ce-f2d6c32cb471"
      },
      "execution_count": 91,
      "outputs": [
        {
          "output_type": "stream",
          "name": "stdout",
          "text": [
            "Intercept: -580.3601502164969\n",
            "Coefficients: [ 2.41964985e+00 -1.63862932e+00 -2.22044605e-14  2.35606008e+02\n",
            " -1.13686838e-13 -1.13686838e-13  6.39488462e-14 -2.84217094e-14\n",
            "  0.00000000e+00  0.00000000e+00  1.37007370e+02  1.20102899e+02\n",
            "  1.28575205e+02  8.90115208e+01  1.05416069e+02  6.44802983e+01\n",
            "  0.00000000e+00]\n"
          ]
        }
      ]
    },
    {
      "cell_type": "markdown",
      "source": [
        "# Model Evaluation"
      ],
      "metadata": {
        "id": "cS1_rxQwqP-7"
      }
    },
    {
      "cell_type": "markdown",
      "source": [
        "* **Evaluate model performance on the testing set:** Use the testing set to assess the model's ability to perform well on unseen data. Common metrics include accuracy, precision, recall, F1-score (for classification), and mean squared error (MSE) or R-squared (for regression).\n",
        "* **Model interpretation (optional):** Depending on the model type, explore how the model makes predictions and identify which features contribute most to the model's decisions."
      ],
      "metadata": {
        "id": "0b1FXyjCqT13"
      }
    },
    {
      "cell_type": "code",
      "source": [
        "# Evaluate the model performance\n",
        "\n",
        "from sklearn.metrics import mean_squared_error, r2_score\n",
        "\n",
        "# Make predictions on the testing set\n",
        "y_pred = model.predict(X_test)\n",
        "\n",
        "# Mean Squared Error (MSE)\n",
        "mse = mean_squared_error(y_test, y_pred)\n",
        "print('Mean Squared Error:', mse)\n",
        "\n",
        "# R-squared\n",
        "r2 = r2_score(y_test, y_pred)\n",
        "print('R-squared:', r2)\n"
      ],
      "metadata": {
        "colab": {
          "base_uri": "https://localhost:8080/"
        },
        "id": "oF73GyaSqYXe",
        "outputId": "ff9d67ce-e8b4-4fcc-d45e-2dcd4fbfac29"
      },
      "execution_count": 92,
      "outputs": [
        {
          "output_type": "stream",
          "name": "stdout",
          "text": [
            "Mean Squared Error: 12294.551878975222\n",
            "R-squared: 0.2668638229630915\n"
          ]
        }
      ]
    },
    {
      "cell_type": "markdown",
      "source": [
        "**VISUALIZE THE RESULTS**"
      ],
      "metadata": {
        "id": "6xlXObtL5pXM"
      }
    },
    {
      "cell_type": "markdown",
      "source": [
        "NOTE: Importing a library that is not in Colaboratory\n",
        "\n",
        "---\n",
        "\n",
        "\n",
        "\n",
        "To import a library that's not in Colaboratory by default, you can use !pip install or !apt-get install."
      ],
      "metadata": {
        "id": "Fp_aZnPp55UW"
      }
    },
    {
      "cell_type": "code",
      "source": [
        "from sklearn.feature_selection import f_classif  # For classification models (replace with f_reg for regression if needed)\n",
        "\n",
        "# Get feature importances\n",
        "feature_importances = model.coef_.flatten()  # Assuming coefficients are stored in a 2D array\n",
        "\n",
        "# Create a DataFrame with feature names and importances\n",
        "feature_names = list(X.columns)  # Assuming feature names are in the DataFrame columns\n",
        "data = {'feature': feature_names, 'importance': feature_importances}\n",
        "df_importance = pd.DataFrame(data)\n",
        "\n",
        "# Sort features by importance (descending)\n",
        "df_importance = df_importance.sort_values(by=['importance'], ascending=False)\n",
        "\n",
        "# Plot the feature importances (consider using libraries like matplotlib or seaborn)\n",
        "# ... (plotting code using feature names and importances from df_importance)\n",
        "\n",
        "df_importance.head(2)\n"
      ],
      "metadata": {
        "colab": {
          "base_uri": "https://localhost:8080/",
          "height": 112
        },
        "id": "pn2VjQxM2w_Z",
        "outputId": "e6330636-3dea-489b-d061-7d57139479a4"
      },
      "execution_count": 93,
      "outputs": [
        {
          "output_type": "execute_result",
          "data": {
            "text/plain": [
              "   feature  importance\n",
              "3     KISW  235.606008\n",
              "10     CRE  137.007370"
            ],
            "text/html": [
              "\n",
              "  <div id=\"df-a2d38ce5-cb18-4916-b0a8-0483005c06d9\" class=\"colab-df-container\">\n",
              "    <div>\n",
              "<style scoped>\n",
              "    .dataframe tbody tr th:only-of-type {\n",
              "        vertical-align: middle;\n",
              "    }\n",
              "\n",
              "    .dataframe tbody tr th {\n",
              "        vertical-align: top;\n",
              "    }\n",
              "\n",
              "    .dataframe thead th {\n",
              "        text-align: right;\n",
              "    }\n",
              "</style>\n",
              "<table border=\"1\" class=\"dataframe\">\n",
              "  <thead>\n",
              "    <tr style=\"text-align: right;\">\n",
              "      <th></th>\n",
              "      <th>feature</th>\n",
              "      <th>importance</th>\n",
              "    </tr>\n",
              "  </thead>\n",
              "  <tbody>\n",
              "    <tr>\n",
              "      <th>3</th>\n",
              "      <td>KISW</td>\n",
              "      <td>235.606008</td>\n",
              "    </tr>\n",
              "    <tr>\n",
              "      <th>10</th>\n",
              "      <td>CRE</td>\n",
              "      <td>137.007370</td>\n",
              "    </tr>\n",
              "  </tbody>\n",
              "</table>\n",
              "</div>\n",
              "    <div class=\"colab-df-buttons\">\n",
              "\n",
              "  <div class=\"colab-df-container\">\n",
              "    <button class=\"colab-df-convert\" onclick=\"convertToInteractive('df-a2d38ce5-cb18-4916-b0a8-0483005c06d9')\"\n",
              "            title=\"Convert this dataframe to an interactive table.\"\n",
              "            style=\"display:none;\">\n",
              "\n",
              "  <svg xmlns=\"http://www.w3.org/2000/svg\" height=\"24px\" viewBox=\"0 -960 960 960\">\n",
              "    <path d=\"M120-120v-720h720v720H120Zm60-500h600v-160H180v160Zm220 220h160v-160H400v160Zm0 220h160v-160H400v160ZM180-400h160v-160H180v160Zm440 0h160v-160H620v160ZM180-180h160v-160H180v160Zm440 0h160v-160H620v160Z\"/>\n",
              "  </svg>\n",
              "    </button>\n",
              "\n",
              "  <style>\n",
              "    .colab-df-container {\n",
              "      display:flex;\n",
              "      gap: 12px;\n",
              "    }\n",
              "\n",
              "    .colab-df-convert {\n",
              "      background-color: #E8F0FE;\n",
              "      border: none;\n",
              "      border-radius: 50%;\n",
              "      cursor: pointer;\n",
              "      display: none;\n",
              "      fill: #1967D2;\n",
              "      height: 32px;\n",
              "      padding: 0 0 0 0;\n",
              "      width: 32px;\n",
              "    }\n",
              "\n",
              "    .colab-df-convert:hover {\n",
              "      background-color: #E2EBFA;\n",
              "      box-shadow: 0px 1px 2px rgba(60, 64, 67, 0.3), 0px 1px 3px 1px rgba(60, 64, 67, 0.15);\n",
              "      fill: #174EA6;\n",
              "    }\n",
              "\n",
              "    .colab-df-buttons div {\n",
              "      margin-bottom: 4px;\n",
              "    }\n",
              "\n",
              "    [theme=dark] .colab-df-convert {\n",
              "      background-color: #3B4455;\n",
              "      fill: #D2E3FC;\n",
              "    }\n",
              "\n",
              "    [theme=dark] .colab-df-convert:hover {\n",
              "      background-color: #434B5C;\n",
              "      box-shadow: 0px 1px 3px 1px rgba(0, 0, 0, 0.15);\n",
              "      filter: drop-shadow(0px 1px 2px rgba(0, 0, 0, 0.3));\n",
              "      fill: #FFFFFF;\n",
              "    }\n",
              "  </style>\n",
              "\n",
              "    <script>\n",
              "      const buttonEl =\n",
              "        document.querySelector('#df-a2d38ce5-cb18-4916-b0a8-0483005c06d9 button.colab-df-convert');\n",
              "      buttonEl.style.display =\n",
              "        google.colab.kernel.accessAllowed ? 'block' : 'none';\n",
              "\n",
              "      async function convertToInteractive(key) {\n",
              "        const element = document.querySelector('#df-a2d38ce5-cb18-4916-b0a8-0483005c06d9');\n",
              "        const dataTable =\n",
              "          await google.colab.kernel.invokeFunction('convertToInteractive',\n",
              "                                                    [key], {});\n",
              "        if (!dataTable) return;\n",
              "\n",
              "        const docLinkHtml = 'Like what you see? Visit the ' +\n",
              "          '<a target=\"_blank\" href=https://colab.research.google.com/notebooks/data_table.ipynb>data table notebook</a>'\n",
              "          + ' to learn more about interactive tables.';\n",
              "        element.innerHTML = '';\n",
              "        dataTable['output_type'] = 'display_data';\n",
              "        await google.colab.output.renderOutput(dataTable, element);\n",
              "        const docLink = document.createElement('div');\n",
              "        docLink.innerHTML = docLinkHtml;\n",
              "        element.appendChild(docLink);\n",
              "      }\n",
              "    </script>\n",
              "  </div>\n",
              "\n",
              "\n",
              "<div id=\"df-960b7829-b3fe-441c-9239-ec4b0953bb44\">\n",
              "  <button class=\"colab-df-quickchart\" onclick=\"quickchart('df-960b7829-b3fe-441c-9239-ec4b0953bb44')\"\n",
              "            title=\"Suggest charts\"\n",
              "            style=\"display:none;\">\n",
              "\n",
              "<svg xmlns=\"http://www.w3.org/2000/svg\" height=\"24px\"viewBox=\"0 0 24 24\"\n",
              "     width=\"24px\">\n",
              "    <g>\n",
              "        <path d=\"M19 3H5c-1.1 0-2 .9-2 2v14c0 1.1.9 2 2 2h14c1.1 0 2-.9 2-2V5c0-1.1-.9-2-2-2zM9 17H7v-7h2v7zm4 0h-2V7h2v10zm4 0h-2v-4h2v4z\"/>\n",
              "    </g>\n",
              "</svg>\n",
              "  </button>\n",
              "\n",
              "<style>\n",
              "  .colab-df-quickchart {\n",
              "      --bg-color: #E8F0FE;\n",
              "      --fill-color: #1967D2;\n",
              "      --hover-bg-color: #E2EBFA;\n",
              "      --hover-fill-color: #174EA6;\n",
              "      --disabled-fill-color: #AAA;\n",
              "      --disabled-bg-color: #DDD;\n",
              "  }\n",
              "\n",
              "  [theme=dark] .colab-df-quickchart {\n",
              "      --bg-color: #3B4455;\n",
              "      --fill-color: #D2E3FC;\n",
              "      --hover-bg-color: #434B5C;\n",
              "      --hover-fill-color: #FFFFFF;\n",
              "      --disabled-bg-color: #3B4455;\n",
              "      --disabled-fill-color: #666;\n",
              "  }\n",
              "\n",
              "  .colab-df-quickchart {\n",
              "    background-color: var(--bg-color);\n",
              "    border: none;\n",
              "    border-radius: 50%;\n",
              "    cursor: pointer;\n",
              "    display: none;\n",
              "    fill: var(--fill-color);\n",
              "    height: 32px;\n",
              "    padding: 0;\n",
              "    width: 32px;\n",
              "  }\n",
              "\n",
              "  .colab-df-quickchart:hover {\n",
              "    background-color: var(--hover-bg-color);\n",
              "    box-shadow: 0 1px 2px rgba(60, 64, 67, 0.3), 0 1px 3px 1px rgba(60, 64, 67, 0.15);\n",
              "    fill: var(--button-hover-fill-color);\n",
              "  }\n",
              "\n",
              "  .colab-df-quickchart-complete:disabled,\n",
              "  .colab-df-quickchart-complete:disabled:hover {\n",
              "    background-color: var(--disabled-bg-color);\n",
              "    fill: var(--disabled-fill-color);\n",
              "    box-shadow: none;\n",
              "  }\n",
              "\n",
              "  .colab-df-spinner {\n",
              "    border: 2px solid var(--fill-color);\n",
              "    border-color: transparent;\n",
              "    border-bottom-color: var(--fill-color);\n",
              "    animation:\n",
              "      spin 1s steps(1) infinite;\n",
              "  }\n",
              "\n",
              "  @keyframes spin {\n",
              "    0% {\n",
              "      border-color: transparent;\n",
              "      border-bottom-color: var(--fill-color);\n",
              "      border-left-color: var(--fill-color);\n",
              "    }\n",
              "    20% {\n",
              "      border-color: transparent;\n",
              "      border-left-color: var(--fill-color);\n",
              "      border-top-color: var(--fill-color);\n",
              "    }\n",
              "    30% {\n",
              "      border-color: transparent;\n",
              "      border-left-color: var(--fill-color);\n",
              "      border-top-color: var(--fill-color);\n",
              "      border-right-color: var(--fill-color);\n",
              "    }\n",
              "    40% {\n",
              "      border-color: transparent;\n",
              "      border-right-color: var(--fill-color);\n",
              "      border-top-color: var(--fill-color);\n",
              "    }\n",
              "    60% {\n",
              "      border-color: transparent;\n",
              "      border-right-color: var(--fill-color);\n",
              "    }\n",
              "    80% {\n",
              "      border-color: transparent;\n",
              "      border-right-color: var(--fill-color);\n",
              "      border-bottom-color: var(--fill-color);\n",
              "    }\n",
              "    90% {\n",
              "      border-color: transparent;\n",
              "      border-bottom-color: var(--fill-color);\n",
              "    }\n",
              "  }\n",
              "</style>\n",
              "\n",
              "  <script>\n",
              "    async function quickchart(key) {\n",
              "      const quickchartButtonEl =\n",
              "        document.querySelector('#' + key + ' button');\n",
              "      quickchartButtonEl.disabled = true;  // To prevent multiple clicks.\n",
              "      quickchartButtonEl.classList.add('colab-df-spinner');\n",
              "      try {\n",
              "        const charts = await google.colab.kernel.invokeFunction(\n",
              "            'suggestCharts', [key], {});\n",
              "      } catch (error) {\n",
              "        console.error('Error during call to suggestCharts:', error);\n",
              "      }\n",
              "      quickchartButtonEl.classList.remove('colab-df-spinner');\n",
              "      quickchartButtonEl.classList.add('colab-df-quickchart-complete');\n",
              "    }\n",
              "    (() => {\n",
              "      let quickchartButtonEl =\n",
              "        document.querySelector('#df-960b7829-b3fe-441c-9239-ec4b0953bb44 button');\n",
              "      quickchartButtonEl.style.display =\n",
              "        google.colab.kernel.accessAllowed ? 'block' : 'none';\n",
              "    })();\n",
              "  </script>\n",
              "</div>\n",
              "\n",
              "    </div>\n",
              "  </div>\n"
            ],
            "application/vnd.google.colaboratory.intrinsic+json": {
              "type": "dataframe",
              "variable_name": "df_importance",
              "summary": "{\n  \"name\": \"df_importance\",\n  \"rows\": 17,\n  \"fields\": [\n    {\n      \"column\": \"feature\",\n      \"properties\": {\n        \"dtype\": \"string\",\n        \"num_unique_values\": 17,\n        \"samples\": [\n          \"KISW\",\n          \"CRE\",\n          \"COMP\"\n        ],\n        \"semantic_type\": \"\",\n        \"description\": \"\"\n      }\n    },\n    {\n      \"column\": \"importance\",\n      \"properties\": {\n        \"dtype\": \"number\",\n        \"std\": 71.93089147734197,\n        \"min\": -1.6386293175994613,\n        \"max\": 235.6060081808212,\n        \"num_unique_values\": 14,\n        \"samples\": [\n          0.0,\n          -2.842170943040401e-14,\n          235.6060081808212\n        ],\n        \"semantic_type\": \"\",\n        \"description\": \"\"\n      }\n    }\n  ]\n}"
            }
          },
          "metadata": {},
          "execution_count": 93
        }
      ]
    },
    {
      "source": [
        "# @title Feature Importance Comparison\n",
        "\n",
        "df_importance.sort_values(by='importance', ascending=True).plot(x='feature', y='importance', kind='barh')"
      ],
      "cell_type": "code",
      "execution_count": 94,
      "outputs": [
        {
          "output_type": "execute_result",
          "data": {
            "text/plain": [
              "<Axes: ylabel='feature'>"
            ]
          },
          "metadata": {},
          "execution_count": 94
        },
        {
          "output_type": "display_data",
          "data": {
            "text/plain": [
              "<Figure size 640x480 with 1 Axes>"
            ],
            "image/png": "[encoded data removed]"
          },
          "metadata": {}
        }
      ],
      "metadata": {
        "colab": {
          "base_uri": "https://localhost:8080/",
          "height": 447
        },
        "id": "weG_MVsA7nY9",
        "outputId": "e5e229dc-41d4-4182-bb18-07face5f079e",
        "cellView": "form"
      }
    },
    {
      "cell_type": "markdown",
      "source": [
        "**CHECKING FOR LINEAR RELATIONSHIP BETWEEN FEATURES AND TARGET VARIBLE**"
      ],
      "metadata": {
        "id": "YXa-hAmXttpb"
      }
    },
    {
      "cell_type": "code",
      "source": [
        "df4['KCPE'].corr(df4['T mks'])"
      ],
      "metadata": {
        "colab": {
          "base_uri": "https://localhost:8080/"
        },
        "id": "kCDNVdKLt9Nm",
        "outputId": "1b7207d2-92a9-4a91-8965-4f831b3f2a5c"
      },
      "execution_count": 95,
      "outputs": [
        {
          "output_type": "execute_result",
          "data": {
            "text/plain": [
              "0.5357437676524659"
            ]
          },
          "metadata": {},
          "execution_count": 95
        }
      ]
    },
    {
      "cell_type": "code",
      "source": [
        "X.shape[0]"
      ],
      "metadata": {
        "colab": {
          "base_uri": "https://localhost:8080/"
        },
        "id": "agP2DIwY-kzA",
        "outputId": "c6dcba91-955a-4f0e-ab28-5e47873a9691"
      },
      "execution_count": 96,
      "outputs": [
        {
          "output_type": "execute_result",
          "data": {
            "text/plain": [
              "607"
            ]
          },
          "metadata": {},
          "execution_count": 96
        }
      ]
    },
    {
      "cell_type": "code",
      "source": [
        "y.shape[0]"
      ],
      "metadata": {
        "colab": {
          "base_uri": "https://localhost:8080/"
        },
        "id": "CWkfAtqO-s52",
        "outputId": "d74439b6-18c9-4b66-da48-cb0d0ee44481"
      },
      "execution_count": 97,
      "outputs": [
        {
          "output_type": "execute_result",
          "data": {
            "text/plain": [
              "607"
            ]
          },
          "metadata": {},
          "execution_count": 97
        }
      ]
    },
    {
      "cell_type": "markdown",
      "source": [
        "**TO DO:**\n",
        "\n",
        "- Try clustering\n",
        "\n"
      ],
      "metadata": {
        "id": "D_c4lK0mA-bH"
      }
    },
    {
      "cell_type": "markdown",
      "source": [
        "**PREDICT**"
      ],
      "metadata": {
        "id": "JhSjRXDlerb_"
      }
    },
    {
      "cell_type": "code",
      "source": [
        "# Create an encoded dataFrame to match the training set\n",
        "import pandas as pd\n",
        "\n",
        "# Create a new DataFrame (df_evaluation)\n",
        "column_names = ['KCPE', 'Stream', 'ENG', 'KISW', 'MAT', 'BIO', 'PHY', 'CHEM', 'HIST', 'GEOG',\n",
        "                'CRE', 'AD', 'AGRI', 'COMP', 'FRE', 'MUS', 'BST']\n",
        "data = {'KCPE': 327, 'Stream': 7, 'ENG': 1, 'KISW': 1, 'MAT': 1, 'BIO': 1, 'PHY': 1,\n",
        "        'CHEM': 1, 'HIST': 1, 'GEOG': 1, 'CRE': 1, 'AD': 0, 'AGRI': 0, 'COMP': 1,\n",
        "        'FRE': 0, 'MUS': 0, 'BST': 1}\n",
        "df_evaluation = pd.DataFrame(data=[data], columns=column_names)\n",
        "\n",
        "# Make prediction using the model\n",
        "predicted_t_mks = model.predict(df_evaluation)\n",
        "\n",
        "# Extract the predicted value\n",
        "predicted_t_mks = predicted_t_mks[0]\n",
        "print('Predicted T mks for KCPE 327, Stream 7:', predicted_t_mks)"
      ],
      "metadata": {
        "colab": {
          "base_uri": "https://localhost:8080/"
        },
        "id": "azfMwVqeeuCb",
        "outputId": "b69f24be-f6b7-4b34-d0cb-0c56410dfa39"
      },
      "execution_count": 98,
      "outputs": [
        {
          "output_type": "stream",
          "name": "stdout",
          "text": [
            "Predicted T mks for KCPE 327, Stream 7: 661.0198464197412\n"
          ]
        }
      ]
    },
    {
      "cell_type": "markdown",
      "source": [
        "**POLYNOMIAL**"
      ],
      "metadata": {
        "id": "9JKuWNQ1j3Es"
      }
    },
    {
      "cell_type": "code",
      "source": [
        "import pandas as pd\n",
        "from sklearn.preprocessing import PolynomialFeatures\n",
        "from sklearn.linear_model import LinearRegression\n",
        "from sklearn.model_selection import train_test_split\n",
        "from sklearn.metrics import r2_score\n",
        "\n",
        "# Assuming you have your data in DataFrames (X with features and y as the target variable)\n",
        "\n",
        "# Split data into training and testing sets (80% training, 20% testing)\n",
        "X_train, X_test, y_train, y_test = train_test_split(X, y, test_size=0.2, random_state=42)\n",
        "\n",
        "# Define degree of polynomial (experiment with different values)\n",
        "degree = 2  # Start with a quadratic model\n",
        "\n",
        "# Create a polynomial features transformer\n",
        "poly = PolynomialFeatures(degree=degree)\n",
        "\n",
        "# Transform training and testing features using the polynomial transformer\n",
        "X_train_poly = poly.fit_transform(X_train)\n",
        "X_test_poly = poly.transform(X_test)\n",
        "\n",
        "# Create a linear regression model\n",
        "model = LinearRegression()\n",
        "\n",
        "# Train the model on the transformed training data\n",
        "model.fit(X_train_poly, y_train)\n",
        "\n",
        "# Make predictions on the testing set -0\\\n",
        "\n",
        "y_pred = model.predict(X_test_poly)\n",
        "\n",
        "# Evaluate model performance (R-squared)\n",
        "r2 = r2_score(y_test, y_pred)\n",
        "print(\"R-squared:\", r2)\n",
        "\n",
        "\n",
        "\n",
        "print('---------------------------------------------')\n",
        "\n",
        "# -----------------------------------------------------\n",
        "import matplotlib.pyplot as plt\n",
        "\n",
        "# Visual comparison of actual vs. predicted values\n",
        "plt.scatter(y_test, y_pred)\n",
        "plt.xlabel('Actual T mks')\n",
        "plt.ylabel('Predicted T mks')\n",
        "plt.title('Predicted vs. Actual T mks')\n",
        "plt.plot([0, 100], [0, 100], color='black', linestyle='-', linewidth=2)  # Reference line\n",
        "plt.show()\n"
      ],
      "metadata": {
        "colab": {
          "base_uri": "https://localhost:8080/",
          "height": 507
        },
        "id": "z8kFIhByBjQE",
        "outputId": "19d45efc-a3aa-4fc5-9853-4fad31382cbe"
      },
      "execution_count": 99,
      "outputs": [
        {
          "output_type": "stream",
          "name": "stdout",
          "text": [
            "R-squared: 0.22212749618616545\n",
            "---------------------------------------------\n"
          ]
        },
        {
          "output_type": "display_data",
          "data": {
            "text/plain": [
              "<Figure size 640x480 with 1 Axes>"
            ],
            "image/png": "[encoded data removed]"
          },
          "metadata": {}
        }
      ]
    },
    {
      "cell_type": "code",
      "source": [
        "# Had to upgrade scikitlearn to Use LinearRegression\n",
        "# !pip install --upgrade scikit-learn"
      ],
      "metadata": {
        "id": "VFA_gr_iDxlZ"
      },
      "execution_count": 100,
      "outputs": []
    },
    {
      "cell_type": "code",
      "source": [
        "import pandas as pd\n",
        "from sklearn.preprocessing import PolynomialFeatures\n",
        "from sklearn.linear_model import LinearRegression, Ridge  # Import Ridge for older scikit-learn\n",
        "from sklearn.model_selection import train_test_split\n",
        "from sklearn.metrics import r2_score\n",
        "\n",
        "# Assuming you have your data in DataFrames (X with features and y as the target variable)\n",
        "\n",
        "# Split data into training and testing sets (80% training, 20% testing)\n",
        "X_train, X_test, y_train, y_test = train_test_split(X, y, test_size=0.2, random_state=42)\n",
        "\n",
        "# Try different polynomial degrees\n",
        "degrees = [1, 2, 3]  # Experiment with different values\n",
        "\n",
        "for degree in degrees:\n",
        "    # Create a polynomial features transformer\n",
        "    poly = PolynomialFeatures(degree=degree)\n",
        "\n",
        "    # Transform training and testing features\n",
        "    X_train_poly = poly.fit_transform(X_train)\n",
        "    X_test_poly = poly.transform(X_test)\n",
        "\n",
        "    # Create a Ridge model for L1 regularization (older scikit-learn)\n",
        "    model = Ridge(alpha=0)  # alpha=0 for L1 penalty in Ridge regression\n",
        "\n",
        "    # Train the model\n",
        "    model.fit(X_train_poly, y_train)\n",
        "\n",
        "    # Make predictions\n",
        "    y_pred = model.predict(X_test_poly)\n",
        "\n",
        "    # Evaluate model performance\n",
        "    r2 = r2_score(y_test, y_pred)\n",
        "    print(f\"R-squared for degree {degree} with L1 regularization:\", r2)\n",
        "\n",
        "# ... (consider exploring alternative models and feature engineering)\n",
        "\n"
      ],
      "metadata": {
        "colab": {
          "base_uri": "https://localhost:8080/"
        },
        "id": "4I3NWUO1C4py",
        "outputId": "dce7c603-0043-4dd1-98fb-89866b9c3a8c"
      },
      "execution_count": 101,
      "outputs": [
        {
          "output_type": "stream",
          "name": "stdout",
          "text": [
            "R-squared for degree 1 with L1 regularization: 0.26686382296309086\n",
            "R-squared for degree 2 with L1 regularization: -2.9165846357768402e+20\n",
            "R-squared for degree 3 with L1 regularization: -26.31562400691255\n"
          ]
        },
        {
          "output_type": "stream",
          "name": "stderr",
          "text": [
            "/usr/local/lib/python3.10/dist-packages/sklearn/linear_model/_ridge.py:255: UserWarning: Singular matrix in solving dual problem. Using least-squares solution instead.\n",
            "  warnings.warn(\n"
          ]
        }
      ]
    },
    {
      "cell_type": "markdown",
      "source": [
        "**RESULTS**\n",
        "\n",
        "*The results obtained suggest a few things:*\n",
        "\n",
        "Degree 1 (Linear Regression with L1 Regularization):\n",
        "\n",
        "The R-squared value of 0.267 indicates that the linear model with L1 regularization explains about 26.7% of the variance in the target variable. This is a slight improvement compared to the R-squared you might have gotten from a simple linear regression without regularization.\n",
        "Degrees 2 and 3 (Highly Negative R-squared):\n",
        "\n",
        "The extremely negative R-squared values (-2.92e+20 and -26.32) for degree 2 and 3 models are nonsensical and indicate that these models are not suitable for your data. They might be suffering from severe overfitting.\n",
        "\n",
        "\n",
        "**Recommendations:**\n",
        "\n",
        "1. Stick with Degree 1 (for now): Based on the R-squared values, the linear model with L1 regularization seems to be the better option compared to higher degrees.\n",
        "\n",
        "2. Consider Alternative Models: Since the R-squared for the linear model is still not very high, explore other models that might better capture the relationship between the features and the target variable. Some options to consider include:\n",
        "\n",
        "- Decision trees\n",
        "- Random forests\n",
        "- Support Vector Machines (SVMs)\n",
        "- Kernel methods (if there's a strong non-linear relationship)\n",
        "\n",
        "3. Feature Engineering: Analyze your features and consider feature engineering techniques like:\n",
        "\n",
        "- Removing irrelevant features\n",
        "- Creating new features that might better capture the underlying relationships\n",
        "- Feature scaling or normalization if features have different scales\n",
        "\n",
        "4. Data Exploration: Create scatter plots between the target variable and individual features to visually inspect the relationships. Look for patterns that might suggest alternative model choices"
      ],
      "metadata": {
        "id": "Srz8kICFFuGm"
      }
    },
    {
      "cell_type": "markdown",
      "source": [
        "# 6. Model Deployment and Refinement"
      ],
      "metadata": {
        "id": "uPlouzJfqmUZ"
      }
    },
    {
      "cell_type": "markdown",
      "source": [
        "* **Deploy the model:**  If satisfied with the model's performance, deploy it to a production environment for real-world use. This might involve integrating it with an application or API.\n",
        "* **Monitor and refine:** Monitor the model's performance over time and retrain it with new data to maintain its effectiveness as circumstances change."
      ],
      "metadata": {
        "id": "Fdz7ld9jqppB"
      }
    },
    {
      "cell_type": "markdown",
      "source": [
        "TRAIN AND SAVE THE LINEAR REGRESSION MODEL"
      ],
      "metadata": {
        "id": "rGc4warhqwqi"
      }
    },
    {
      "cell_type": "code",
      "source": [
        "import tensorflow as tf\n",
        "from sklearn.linear_model import LinearRegression\n",
        "\n",
        "class SklearnModelWrapper(tf.Module):\n",
        "  def __init__(self, sklearn_model):\n",
        "    super(SklearnModelWrapper, self).__init__()\n",
        "    self.sklearn_model = sklearn_model\n",
        "\n",
        "  @tf.function\n",
        "  def predict(self, inputs):\n",
        "    return tf.convert_to_tensor(self.sklearn_model.predict(inputs))\n",
        "\n",
        "# Train your scikit-learn model (assuming you have X_train and y_train)\n",
        "model = LinearRegression().fit(X_train, y_train)\n",
        "\n",
        "# Wrap the model\n",
        "model_wrapper = SklearnModelWrapper(model)\n",
        "\n",
        "# Save the wrapped model\n",
        "tf.saved_model.save(model_wrapper, \"/content/drive/MyDrive/mlmodels/F19\")\n",
        "\n"
      ],
      "metadata": {
        "id": "HaQx85RhQbev"
      },
      "execution_count": 73,
      "outputs": []
    },
    {
      "cell_type": "markdown",
      "source": [
        "TRAINING WITH TENSORFLOW FOR COMPATIBILITY"
      ],
      "metadata": {
        "id": "PaCVmDK2Hinw"
      }
    },
    {
      "cell_type": "code",
      "source": [
        "print(X_train.shape)\n",
        "print(y_train.shape)"
      ],
      "metadata": {
        "colab": {
          "base_uri": "https://localhost:8080/"
        },
        "id": "mub88Qd2IrZ7",
        "outputId": "0cbfec50-7b36-4c97-d815-a360265ea90c"
      },
      "execution_count": 114,
      "outputs": [
        {
          "output_type": "stream",
          "name": "stdout",
          "text": [
            "(485, 17)\n",
            "(485,)\n"
          ]
        }
      ]
    },
    {
      "cell_type": "code",
      "source": [
        "import tensorflow as tf\n",
        "from tensorflow import keras\n",
        "from sklearn.linear_model import LinearRegression  # Used for wrapping\n",
        "\n",
        "# Define training data (replace with your actual data)\n",
        "# X_train = ...  # Your training features (2D NumPy array)\n",
        "# y_train = ...  # Your training labels (1D NumPy array)\n",
        "\n",
        "# Define a simple linear regression model\n",
        "model = keras.Sequential([\n",
        "  keras.layers.Dense(1)  # Single output unit for prediction\n",
        "])\n",
        "\n",
        "# Compile the model with optimizer and loss function\n",
        "model.compile(optimizer='adam', loss='mse')  # Mean squared error loss\n",
        "\n",
        "# Train the model\n",
        "model.fit(X_train, y_train, epochs=10)  # Adjust epochs as needed\n",
        "\n",
        "# Wrap the TensorFlow model for TensorFlow Serving\n",
        "class SklearnModelWrapper(tf.Module):\n",
        "  def __init__(self, sklearn_model):\n",
        "    super(SklearnModelWrapper, self).__init__()\n",
        "    self.sklearn_model = sklearn_model\n",
        "\n",
        "  # Add input signature with expected feature shape (replace with actual number of features)\n",
        "  @tf.function(input_signature=[tf.TensorSpec(shape=[None, X_train.shape[1]], dtype=tf.float32)])\n",
        "  def predict(self, inputs):\n",
        "    # Convert input to tensor (optional)\n",
        "    inputs = tf.convert_to_tensor(inputs)\n",
        "    # Call the model directly on the tensor\n",
        "    return self.sklearn_model(inputs)\n",
        "\n",
        "# Create an instance of SklearnModelWrapper with the trained model\n",
        "model_wrapper = SklearnModelWrapper(model)\n",
        "\n",
        "# Save the wrapped model using TensorFlow Serving format\n",
        "try:\n",
        "  tf.saved_model.save(model_wrapper, \"/content/drive/MyDrive/mlmodels/F17\", signatures={'serving_default': model_wrapper.predict})\n",
        "  print(\"Model trained and saved successfully!\")\n",
        "except FileNotFoundError:\n",
        "  print(\"Error: The specified path does not exist. Please create the directory first.\")\n",
        "\n"
      ],
      "metadata": {
        "colab": {
          "base_uri": "https://localhost:8080/"
        },
        "id": "t_zx3cATHhS4",
        "outputId": "89e0fd8f-5d23-4c6e-a68f-9f63995c1554"
      },
      "execution_count": 115,
      "outputs": [
        {
          "output_type": "stream",
          "name": "stdout",
          "text": [
            "Epoch 1/10\n",
            "16/16 [==============================] - 0s 2ms/step - loss: 271789.9688\n",
            "Epoch 2/10\n",
            "16/16 [==============================] - 0s 2ms/step - loss: 266418.8125\n",
            "Epoch 3/10\n",
            "16/16 [==============================] - 0s 2ms/step - loss: 261097.4219\n",
            "Epoch 4/10\n",
            "16/16 [==============================] - 0s 2ms/step - loss: 255923.5625\n",
            "Epoch 5/10\n",
            "16/16 [==============================] - 0s 2ms/step - loss: 250778.2969\n",
            "Epoch 6/10\n",
            "16/16 [==============================] - 0s 2ms/step - loss: 245721.2344\n",
            "Epoch 7/10\n",
            "16/16 [==============================] - 0s 2ms/step - loss: 240731.3594\n",
            "Epoch 8/10\n",
            "16/16 [==============================] - 0s 2ms/step - loss: 235827.4375\n",
            "Epoch 9/10\n",
            "16/16 [==============================] - 0s 2ms/step - loss: 231045.0156\n",
            "Epoch 10/10\n",
            "16/16 [==============================] - 0s 2ms/step - loss: 226311.7344\n",
            "Model trained and saved successfully!\n"
          ]
        }
      ]
    }
  ]
}